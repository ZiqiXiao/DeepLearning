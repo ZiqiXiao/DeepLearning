{
 "cells": [
  {
   "cell_type": "code",
   "execution_count": 2,
   "metadata": {
    "collapsed": true
   },
   "outputs": [],
   "source": [
    "import cv2 # opencv读取的格式是BGR，与matplotlib不同\n",
    "import matplotlib.pyplot as plt\n",
    "import numpy as np\n",
    "%matplotlib inline"
   ]
  },
  {
   "cell_type": "code",
   "execution_count": 6,
   "outputs": [],
   "source": [
    "pic_path = '/Users/xiaoziqi/Desktop/Code/deep-learning/OpenCV/data/cat1.jpeg'\n",
    "img = cv2.imread(pic_path)"
   ],
   "metadata": {
    "collapsed": false,
    "pycharm": {
     "name": "#%%\n"
    }
   }
  },
  {
   "cell_type": "code",
   "execution_count": 3,
   "outputs": [
    {
     "data": {
      "text/plain": "array([[[ 38,  36,  42],\n        [ 38,  36,  42],\n        [ 37,  35,  41],\n        ...,\n        [ 61,  78,  99],\n        [ 60,  76,  99],\n        [ 61,  77, 100]],\n\n       [[ 38,  36,  42],\n        [ 38,  36,  42],\n        [ 38,  36,  42],\n        ...,\n        [ 62,  79, 100],\n        [ 62,  78, 101],\n        [ 63,  79, 102]],\n\n       [[ 39,  37,  43],\n        [ 39,  37,  43],\n        [ 39,  37,  43],\n        ...,\n        [ 61,  78,  99],\n        [ 60,  77,  98],\n        [ 61,  78,  99]],\n\n       ...,\n\n       [[ 42,  40,  46],\n        [ 42,  40,  46],\n        [ 42,  38,  44],\n        ...,\n        [ 92,  98, 111],\n        [ 90,  96, 109],\n        [ 85,  93, 106]],\n\n       [[ 43,  41,  47],\n        [ 44,  42,  48],\n        [ 42,  38,  44],\n        ...,\n        [111, 119, 132],\n        [100, 108, 121],\n        [ 78,  86,  99]],\n\n       [[ 45,  41,  47],\n        [ 47,  43,  49],\n        [ 45,  38,  45],\n        ...,\n        [116, 124, 137],\n        [112, 119, 134],\n        [ 83,  92, 106]]], dtype=uint8)"
     },
     "execution_count": 3,
     "metadata": {},
     "output_type": "execute_result"
    }
   ],
   "source": [
    "img"
   ],
   "metadata": {
    "collapsed": false,
    "pycharm": {
     "name": "#%%\n"
    }
   }
  },
  {
   "cell_type": "code",
   "execution_count": 4,
   "outputs": [],
   "source": [
    "# 图像的显示，也可以创建多个窗口\n",
    "cv2.imshow('image', img)\n",
    "# 等待时间，毫秒级，0表示任意键终止\n",
    "cv2.waitKey(0)\n",
    "cv2.destroyAllWindows()"
   ],
   "metadata": {
    "collapsed": false,
    "pycharm": {
     "name": "#%%\n"
    }
   }
  },
  {
   "cell_type": "code",
   "execution_count": 5,
   "outputs": [
    {
     "data": {
      "text/plain": "(301, 320, 3)"
     },
     "execution_count": 5,
     "metadata": {},
     "output_type": "execute_result"
    }
   ],
   "source": [
    "img.shape"
   ],
   "metadata": {
    "collapsed": false,
    "pycharm": {
     "name": "#%%\n"
    }
   }
  },
  {
   "cell_type": "code",
   "execution_count": 7,
   "outputs": [
    {
     "data": {
      "text/plain": "array([[ 38,  38,  37, ...,  82,  81,  82],\n       [ 38,  38,  38, ...,  83,  83,  84],\n       [ 39,  39,  39, ...,  82,  81,  82],\n       ...,\n       [ 42,  42,  40, ..., 101,  99,  96],\n       [ 43,  44,  40, ..., 122, 111,  89],\n       [ 43,  45,  41, ..., 127, 123,  95]], dtype=uint8)"
     },
     "execution_count": 7,
     "metadata": {},
     "output_type": "execute_result"
    }
   ],
   "source": [
    "img_gray = cv2.imread(pic_path, cv2.IMREAD_GRAYSCALE)\n",
    "img_gray"
   ],
   "metadata": {
    "collapsed": false,
    "pycharm": {
     "name": "#%%\n"
    }
   }
  },
  {
   "cell_type": "code",
   "execution_count": 8,
   "outputs": [
    {
     "data": {
      "text/plain": "(301, 320)"
     },
     "execution_count": 8,
     "metadata": {},
     "output_type": "execute_result"
    }
   ],
   "source": [
    "img_gray.shape"
   ],
   "metadata": {
    "collapsed": false,
    "pycharm": {
     "name": "#%%\n"
    }
   }
  },
  {
   "cell_type": "code",
   "execution_count": 1,
   "outputs": [
    {
     "ename": "NameError",
     "evalue": "name 'cv2' is not defined",
     "output_type": "error",
     "traceback": [
      "\u001B[0;31m---------------------------------------------------------------------------\u001B[0m",
      "\u001B[0;31mNameError\u001B[0m                                 Traceback (most recent call last)",
      "\u001B[0;32m/var/folders/xx/r2gz1j4j16q0vg6lb_0f15th0000gn/T/ipykernel_91672/875077692.py\u001B[0m in \u001B[0;36m<module>\u001B[0;34m\u001B[0m\n\u001B[1;32m      1\u001B[0m \u001B[0;31m# 图像的显示，也可以创建多个窗口\u001B[0m\u001B[0;34m\u001B[0m\u001B[0;34m\u001B[0m\u001B[0;34m\u001B[0m\u001B[0m\n\u001B[0;32m----> 2\u001B[0;31m \u001B[0mcv2\u001B[0m\u001B[0;34m.\u001B[0m\u001B[0mimshow\u001B[0m\u001B[0;34m(\u001B[0m\u001B[0;34m'image'\u001B[0m\u001B[0;34m,\u001B[0m \u001B[0mimg_gray\u001B[0m\u001B[0;34m)\u001B[0m\u001B[0;34m\u001B[0m\u001B[0;34m\u001B[0m\u001B[0m\n\u001B[0m\u001B[1;32m      3\u001B[0m \u001B[0;31m# 等待时间，毫秒级，0表示任意键终止\u001B[0m\u001B[0;34m\u001B[0m\u001B[0;34m\u001B[0m\u001B[0;34m\u001B[0m\u001B[0m\n\u001B[1;32m      4\u001B[0m \u001B[0mcv2\u001B[0m\u001B[0;34m.\u001B[0m\u001B[0mwaitKey\u001B[0m\u001B[0;34m(\u001B[0m\u001B[0;36m500\u001B[0m\u001B[0;34m)\u001B[0m\u001B[0;34m\u001B[0m\u001B[0;34m\u001B[0m\u001B[0m\n\u001B[1;32m      5\u001B[0m \u001B[0mcv2\u001B[0m\u001B[0;34m.\u001B[0m\u001B[0mdestroyAllWindows\u001B[0m\u001B[0;34m(\u001B[0m\u001B[0;34m)\u001B[0m\u001B[0;34m\u001B[0m\u001B[0;34m\u001B[0m\u001B[0m\n",
      "\u001B[0;31mNameError\u001B[0m: name 'cv2' is not defined"
     ]
    }
   ],
   "source": [
    "# 图像的显示，也可以创建多个窗口\n",
    "cv2.imshow('image', img_gray)\n",
    "# 等待时间，毫秒级，0表示任意键终止\n",
    "cv2.waitKey(500)\n",
    "cv2.destroyAllWindows()"
   ],
   "metadata": {
    "collapsed": false,
    "pycharm": {
     "name": "#%%\n"
    }
   }
  },
  {
   "cell_type": "code",
   "execution_count": null,
   "outputs": [],
   "source": [
    "cv2.imwrite('data/my_cat.jpeg', img_gray)"
   ],
   "metadata": {
    "collapsed": false,
    "pycharm": {
     "name": "#%%\n"
    }
   }
  },
  {
   "cell_type": "markdown",
   "source": [
    "### 数据读取-视频"
   ],
   "metadata": {
    "collapsed": false,
    "pycharm": {
     "name": "#%% md\n"
    }
   }
  },
  {
   "cell_type": "markdown",
   "source": [
    "- cv2.VideoCapture可以捕获摄像头，用数字来控制不同的设备，例如0，1.\n",
    "- 如果是视频文件，直接指定好路径即可。"
   ],
   "metadata": {
    "collapsed": false,
    "pycharm": {
     "name": "#%% md\n"
    }
   }
  },
  {
   "cell_type": "code",
   "execution_count": 3,
   "outputs": [],
   "source": [
    "vc = cv2.VideoCapture('data/test.mp4')"
   ],
   "metadata": {
    "collapsed": false,
    "pycharm": {
     "name": "#%%\n"
    }
   }
  },
  {
   "cell_type": "code",
   "execution_count": 6,
   "outputs": [
    {
     "data": {
      "text/plain": "array([[[253, 253, 253],\n        [253, 253, 253],\n        [253, 253, 253],\n        ...,\n        [253, 253, 253],\n        [253, 253, 253],\n        [253, 253, 253]],\n\n       [[253, 253, 253],\n        [253, 253, 253],\n        [253, 253, 253],\n        ...,\n        [253, 253, 253],\n        [253, 253, 253],\n        [253, 253, 253]],\n\n       [[253, 253, 253],\n        [253, 253, 253],\n        [253, 253, 253],\n        ...,\n        [253, 253, 253],\n        [253, 253, 253],\n        [253, 253, 253]],\n\n       ...,\n\n       [[253, 253, 253],\n        [253, 253, 253],\n        [253, 253, 253],\n        ...,\n        [253, 253, 253],\n        [253, 253, 253],\n        [253, 253, 253]],\n\n       [[253, 253, 253],\n        [253, 253, 253],\n        [253, 253, 253],\n        ...,\n        [253, 253, 253],\n        [253, 253, 253],\n        [253, 253, 253]],\n\n       [[253, 253, 253],\n        [253, 253, 253],\n        [253, 253, 253],\n        ...,\n        [253, 253, 253],\n        [253, 253, 253],\n        [253, 253, 253]]], dtype=uint8)"
     },
     "execution_count": 6,
     "metadata": {},
     "output_type": "execute_result"
    }
   ],
   "source": [
    "# 检查打开是否正确\n",
    "if vc.isOpened():\n",
    "    is_open, frame =  vc.read()\n",
    "else:\n",
    "    is_open = False\n",
    "is_open"
   ],
   "metadata": {
    "collapsed": false,
    "pycharm": {
     "name": "#%%\n"
    }
   }
  },
  {
   "cell_type": "code",
   "execution_count": null,
   "outputs": [],
   "source": [
    "while open:\n",
    "    ret, frame = vc.read()\n",
    "    if frame is None:\n",
    "        break\n",
    "    if ret:\n",
    "        v_gray = cv2.cvtColor(frame, cv2.COLOR_BGR2GRAY)\n",
    "        cv2.imshow('result', v_gray)\n",
    "        if cv2.waitKey(10) & 0xFF == 27:\n",
    "            break\n",
    "vc.release()\n",
    "cv2.destroyAllWindows()"
   ],
   "metadata": {
    "collapsed": false,
    "pycharm": {
     "name": "#%%\n"
    }
   }
  },
  {
   "cell_type": "code",
   "execution_count": null,
   "outputs": [],
   "source": [
    "vc = cv2.VideoCapture(0)\n",
    "while(True):\n",
    "    # 读取一帧，read()方法是其他两个类方法的结合，具体文档\n",
    "    # ret为bool类型，指示是否成功读取这一帧\n",
    "    ret, frame = vc.read()\n",
    "    # 就是个处理一帧的例子，这里转为灰度图\n",
    "    gray = cv2.cvtColor(frame, cv2.COLOR_BGR2GRAY)\n",
    "    # 不断显示一帧，就成视频了\n",
    "    # 这里没有提前创建窗口，所以默认创建的窗口不可调整大小\n",
    "    # 可提前使用cv.WINDOW_NORMAL标签创建个窗口\n",
    "    cv2.imshow('frame',gray)\n",
    "    # 若没有按下q键，则每1毫秒显示一帧\n",
    "    if cv2.waitKey(1) & 0xFF == ord('q'):\n",
    "        break\n",
    "\n",
    "# 所有操作结束后不要忘记释放\n",
    "vc.release()\n",
    "cv2.destroyAllWindows()"
   ],
   "metadata": {
    "collapsed": false,
    "pycharm": {
     "name": "#%%\n"
    }
   }
  }
 ],
 "metadata": {
  "kernelspec": {
   "display_name": "Python 3",
   "language": "python",
   "name": "python3"
  },
  "language_info": {
   "codemirror_mode": {
    "name": "ipython",
    "version": 2
   },
   "file_extension": ".py",
   "mimetype": "text/x-python",
   "name": "python",
   "nbconvert_exporter": "python",
   "pygments_lexer": "ipython2",
   "version": "2.7.6"
  }
 },
 "nbformat": 4,
 "nbformat_minor": 0
}