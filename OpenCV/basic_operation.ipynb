{
 "cells": [
  {
   "cell_type": "code",
   "execution_count": 4,
   "metadata": {
    "collapsed": true
   },
   "outputs": [],
   "source": [
    "import cv2\n",
    "import matplotlib.pyplot as plt\n",
    "import numpy as np\n",
    "%matplotlib inline"
   ]
  },
  {
   "cell_type": "code",
   "execution_count": 5,
   "outputs": [],
   "source": [
    "img = cv2.imread('data/cat1.jpeg')"
   ],
   "metadata": {
    "collapsed": false,
    "pycharm": {
     "name": "#%%\n"
    }
   }
  },
  {
   "cell_type": "code",
   "execution_count": 6,
   "outputs": [
    {
     "data": {
      "text/plain": "array([[[ 38,  36,  42],\n        [ 38,  36,  42],\n        [ 37,  35,  41],\n        ...,\n        [ 61,  78,  99],\n        [ 60,  76,  99],\n        [ 61,  77, 100]],\n\n       [[ 38,  36,  42],\n        [ 38,  36,  42],\n        [ 38,  36,  42],\n        ...,\n        [ 62,  79, 100],\n        [ 62,  78, 101],\n        [ 63,  79, 102]],\n\n       [[ 39,  37,  43],\n        [ 39,  37,  43],\n        [ 39,  37,  43],\n        ...,\n        [ 61,  78,  99],\n        [ 60,  77,  98],\n        [ 61,  78,  99]],\n\n       ...,\n\n       [[ 42,  40,  46],\n        [ 42,  40,  46],\n        [ 42,  38,  44],\n        ...,\n        [ 92,  98, 111],\n        [ 90,  96, 109],\n        [ 85,  93, 106]],\n\n       [[ 43,  41,  47],\n        [ 44,  42,  48],\n        [ 42,  38,  44],\n        ...,\n        [111, 119, 132],\n        [100, 108, 121],\n        [ 78,  86,  99]],\n\n       [[ 45,  41,  47],\n        [ 47,  43,  49],\n        [ 45,  38,  45],\n        ...,\n        [116, 124, 137],\n        [112, 119, 134],\n        [ 83,  92, 106]]], dtype=uint8)"
     },
     "execution_count": 6,
     "metadata": {},
     "output_type": "execute_result"
    }
   ],
   "source": [
    "img"
   ],
   "metadata": {
    "collapsed": false,
    "pycharm": {
     "name": "#%%\n"
    }
   }
  },
  {
   "cell_type": "code",
   "execution_count": null,
   "outputs": [],
   "source": [],
   "metadata": {
    "collapsed": false,
    "pycharm": {
     "name": "#%%\n"
    }
   }
  }
 ],
 "metadata": {
  "kernelspec": {
   "display_name": "Python 3",
   "language": "python",
   "name": "python3"
  },
  "language_info": {
   "codemirror_mode": {
    "name": "ipython",
    "version": 2
   },
   "file_extension": ".py",
   "mimetype": "text/x-python",
   "name": "python",
   "nbconvert_exporter": "python",
   "pygments_lexer": "ipython2",
   "version": "2.7.6"
  }
 },
 "nbformat": 4,
 "nbformat_minor": 0
}