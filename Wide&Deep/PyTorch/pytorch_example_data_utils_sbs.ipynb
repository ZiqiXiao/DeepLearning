{
 "cells": [
  {
   "cell_type": "code",
   "execution_count": 1,
   "metadata": {
    "collapsed": true,
    "pycharm": {
     "name": "#%%\n"
    }
   },
   "outputs": [],
   "source": [
    "import pandas as pd\n",
    "import numpy as np\n",
    "from __future__ import print_function"
   ]
  },
  {
   "cell_type": "code",
   "execution_count": 2,
   "outputs": [],
   "source": [
    "from IPython.core.interactiveshell import InteractiveShell\n",
    "InteractiveShell.ast_node_interactivity = 'all'"
   ],
   "metadata": {
    "collapsed": false,
    "pycharm": {
     "name": "#%%\n"
    }
   }
  },
  {
   "cell_type": "code",
   "execution_count": 3,
   "outputs": [
    {
     "data": {
      "text/plain": "       age     workclass  fnlwgt     education  educational-num  \\\n0       25       Private  226802          11th                7   \n1       38       Private   89814       HS-grad                9   \n2       28     Local-gov  336951    Assoc-acdm               12   \n3       44       Private  160323  Some-college               10   \n4       18             ?  103497  Some-college               10   \n...    ...           ...     ...           ...              ...   \n48837   27       Private  257302    Assoc-acdm               12   \n48838   40       Private  154374       HS-grad                9   \n48839   58       Private  151910       HS-grad                9   \n48840   22       Private  201490       HS-grad                9   \n48841   52  Self-emp-inc  287927       HS-grad                9   \n\n           marital-status         occupation relationship   race  gender  \\\n0           Never-married  Machine-op-inspct    Own-child  Black    Male   \n1      Married-civ-spouse    Farming-fishing      Husband  White    Male   \n2      Married-civ-spouse    Protective-serv      Husband  White    Male   \n3      Married-civ-spouse  Machine-op-inspct      Husband  Black    Male   \n4           Never-married                  ?    Own-child  White  Female   \n...                   ...                ...          ...    ...     ...   \n48837  Married-civ-spouse       Tech-support         Wife  White  Female   \n48838  Married-civ-spouse  Machine-op-inspct      Husband  White    Male   \n48839             Widowed       Adm-clerical    Unmarried  White  Female   \n48840       Never-married       Adm-clerical    Own-child  White    Male   \n48841  Married-civ-spouse    Exec-managerial         Wife  White  Female   \n\n       capital-gain  capital-loss  hours-per-week native-country income  \n0                 0             0              40  United-States  <=50K  \n1                 0             0              50  United-States  <=50K  \n2                 0             0              40  United-States   >50K  \n3              7688             0              40  United-States   >50K  \n4                 0             0              30  United-States  <=50K  \n...             ...           ...             ...            ...    ...  \n48837             0             0              38  United-States  <=50K  \n48838             0             0              40  United-States   >50K  \n48839             0             0              40  United-States  <=50K  \n48840             0             0              20  United-States  <=50K  \n48841         15024             0              40  United-States   >50K  \n\n[48842 rows x 15 columns]",
      "text/html": "<div>\n<style scoped>\n    .dataframe tbody tr th:only-of-type {\n        vertical-align: middle;\n    }\n\n    .dataframe tbody tr th {\n        vertical-align: top;\n    }\n\n    .dataframe thead th {\n        text-align: right;\n    }\n</style>\n<table border=\"1\" class=\"dataframe\">\n  <thead>\n    <tr style=\"text-align: right;\">\n      <th></th>\n      <th>age</th>\n      <th>workclass</th>\n      <th>fnlwgt</th>\n      <th>education</th>\n      <th>educational-num</th>\n      <th>marital-status</th>\n      <th>occupation</th>\n      <th>relationship</th>\n      <th>race</th>\n      <th>gender</th>\n      <th>capital-gain</th>\n      <th>capital-loss</th>\n      <th>hours-per-week</th>\n      <th>native-country</th>\n      <th>income</th>\n    </tr>\n  </thead>\n  <tbody>\n    <tr>\n      <th>0</th>\n      <td>25</td>\n      <td>Private</td>\n      <td>226802</td>\n      <td>11th</td>\n      <td>7</td>\n      <td>Never-married</td>\n      <td>Machine-op-inspct</td>\n      <td>Own-child</td>\n      <td>Black</td>\n      <td>Male</td>\n      <td>0</td>\n      <td>0</td>\n      <td>40</td>\n      <td>United-States</td>\n      <td>&lt;=50K</td>\n    </tr>\n    <tr>\n      <th>1</th>\n      <td>38</td>\n      <td>Private</td>\n      <td>89814</td>\n      <td>HS-grad</td>\n      <td>9</td>\n      <td>Married-civ-spouse</td>\n      <td>Farming-fishing</td>\n      <td>Husband</td>\n      <td>White</td>\n      <td>Male</td>\n      <td>0</td>\n      <td>0</td>\n      <td>50</td>\n      <td>United-States</td>\n      <td>&lt;=50K</td>\n    </tr>\n    <tr>\n      <th>2</th>\n      <td>28</td>\n      <td>Local-gov</td>\n      <td>336951</td>\n      <td>Assoc-acdm</td>\n      <td>12</td>\n      <td>Married-civ-spouse</td>\n      <td>Protective-serv</td>\n      <td>Husband</td>\n      <td>White</td>\n      <td>Male</td>\n      <td>0</td>\n      <td>0</td>\n      <td>40</td>\n      <td>United-States</td>\n      <td>&gt;50K</td>\n    </tr>\n    <tr>\n      <th>3</th>\n      <td>44</td>\n      <td>Private</td>\n      <td>160323</td>\n      <td>Some-college</td>\n      <td>10</td>\n      <td>Married-civ-spouse</td>\n      <td>Machine-op-inspct</td>\n      <td>Husband</td>\n      <td>Black</td>\n      <td>Male</td>\n      <td>7688</td>\n      <td>0</td>\n      <td>40</td>\n      <td>United-States</td>\n      <td>&gt;50K</td>\n    </tr>\n    <tr>\n      <th>4</th>\n      <td>18</td>\n      <td>?</td>\n      <td>103497</td>\n      <td>Some-college</td>\n      <td>10</td>\n      <td>Never-married</td>\n      <td>?</td>\n      <td>Own-child</td>\n      <td>White</td>\n      <td>Female</td>\n      <td>0</td>\n      <td>0</td>\n      <td>30</td>\n      <td>United-States</td>\n      <td>&lt;=50K</td>\n    </tr>\n    <tr>\n      <th>...</th>\n      <td>...</td>\n      <td>...</td>\n      <td>...</td>\n      <td>...</td>\n      <td>...</td>\n      <td>...</td>\n      <td>...</td>\n      <td>...</td>\n      <td>...</td>\n      <td>...</td>\n      <td>...</td>\n      <td>...</td>\n      <td>...</td>\n      <td>...</td>\n      <td>...</td>\n    </tr>\n    <tr>\n      <th>48837</th>\n      <td>27</td>\n      <td>Private</td>\n      <td>257302</td>\n      <td>Assoc-acdm</td>\n      <td>12</td>\n      <td>Married-civ-spouse</td>\n      <td>Tech-support</td>\n      <td>Wife</td>\n      <td>White</td>\n      <td>Female</td>\n      <td>0</td>\n      <td>0</td>\n      <td>38</td>\n      <td>United-States</td>\n      <td>&lt;=50K</td>\n    </tr>\n    <tr>\n      <th>48838</th>\n      <td>40</td>\n      <td>Private</td>\n      <td>154374</td>\n      <td>HS-grad</td>\n      <td>9</td>\n      <td>Married-civ-spouse</td>\n      <td>Machine-op-inspct</td>\n      <td>Husband</td>\n      <td>White</td>\n      <td>Male</td>\n      <td>0</td>\n      <td>0</td>\n      <td>40</td>\n      <td>United-States</td>\n      <td>&gt;50K</td>\n    </tr>\n    <tr>\n      <th>48839</th>\n      <td>58</td>\n      <td>Private</td>\n      <td>151910</td>\n      <td>HS-grad</td>\n      <td>9</td>\n      <td>Widowed</td>\n      <td>Adm-clerical</td>\n      <td>Unmarried</td>\n      <td>White</td>\n      <td>Female</td>\n      <td>0</td>\n      <td>0</td>\n      <td>40</td>\n      <td>United-States</td>\n      <td>&lt;=50K</td>\n    </tr>\n    <tr>\n      <th>48840</th>\n      <td>22</td>\n      <td>Private</td>\n      <td>201490</td>\n      <td>HS-grad</td>\n      <td>9</td>\n      <td>Never-married</td>\n      <td>Adm-clerical</td>\n      <td>Own-child</td>\n      <td>White</td>\n      <td>Male</td>\n      <td>0</td>\n      <td>0</td>\n      <td>20</td>\n      <td>United-States</td>\n      <td>&lt;=50K</td>\n    </tr>\n    <tr>\n      <th>48841</th>\n      <td>52</td>\n      <td>Self-emp-inc</td>\n      <td>287927</td>\n      <td>HS-grad</td>\n      <td>9</td>\n      <td>Married-civ-spouse</td>\n      <td>Exec-managerial</td>\n      <td>Wife</td>\n      <td>White</td>\n      <td>Female</td>\n      <td>15024</td>\n      <td>0</td>\n      <td>40</td>\n      <td>United-States</td>\n      <td>&gt;50K</td>\n    </tr>\n  </tbody>\n</table>\n<p>48842 rows × 15 columns</p>\n</div>"
     },
     "execution_count": 3,
     "metadata": {},
     "output_type": "execute_result"
    }
   ],
   "source": [
    "df = pd.read_csv('data/adult.csv')\n",
    "df"
   ],
   "metadata": {
    "collapsed": false,
    "pycharm": {
     "name": "#%%\n"
    }
   }
  },
  {
   "cell_type": "code",
   "execution_count": 4,
   "outputs": [
    {
     "data": {
      "text/plain": "<=50K    37155\n>50K     11687\nName: income, dtype: int64"
     },
     "execution_count": 4,
     "metadata": {},
     "output_type": "execute_result"
    }
   ],
   "source": [
    "df.income.value_counts()"
   ],
   "metadata": {
    "collapsed": false,
    "pycharm": {
     "name": "#%%\n"
    }
   }
  },
  {
   "cell_type": "code",
   "execution_count": 5,
   "outputs": [],
   "source": [
    "df[\"income_label\"] = (df[\"income\"].apply(lambda x: \">50K\" in x)).astype(int)"
   ],
   "metadata": {
    "collapsed": false,
    "pycharm": {
     "name": "#%%\n"
    }
   }
  },
  {
   "cell_type": "markdown",
   "source": [
    "#### Define the \"Wide\" and \"Deep\" side of columns\n",
    "Wide Side: wide columns & cross columns\n",
    "Deep Side: embedding columns & continuous columns"
   ],
   "metadata": {
    "collapsed": false,
    "pycharm": {
     "name": "#%% md\n"
    }
   }
  },
  {
   "cell_type": "code",
   "execution_count": 6,
   "outputs": [],
   "source": [
    "# Wide Side\n",
    "wide_cols = ['age', 'hours-per-week', 'education', 'relationship', 'workclass', 'occupation', 'native-country', 'gender']\n",
    "crossed_cols = (['education', 'occupation'], ['native-country', 'occupation'])\n",
    "\n",
    "# Deep Side\n",
    "# embeddings_cols is a list of tuple which contains the name of ftr and the dimensions of embedding.\n",
    "# You need give every embedding ftr col a dimension or None of them such that they will be given a default dimension.\n",
    "embeddings_cols = [('education', 10), ('relationship', 8), ('workclass', 10), ('occupation', 10), ('native-country', 12)]\n",
    "continuous_cols = ['age', 'hours-per-week']\n",
    "\n",
    "target = 'income_label'\n",
    "method = 'logistic'"
   ],
   "metadata": {
    "collapsed": false,
    "pycharm": {
     "name": "#%%\n"
    }
   }
  },
  {
   "cell_type": "markdown",
   "source": [
    "#### 演示 utils/data_utils.py 中prepare_data() 的流程"
   ],
   "metadata": {
    "collapsed": false,
    "pycharm": {
     "name": "#%% md\n"
    }
   }
  },
  {
   "cell_type": "markdown",
   "source": [
    "将embedding_col中的dimension和name分离，并将其与连续性特征名称合并，组成deep_cols."
   ],
   "metadata": {
    "collapsed": false,
    "pycharm": {
     "name": "#%% md\n"
    }
   }
  },
  {
   "cell_type": "code",
   "execution_count": 7,
   "outputs": [],
   "source": [
    "if type(embeddings_cols[0]) is tuple:\n",
    "    emb_dim = dict(embeddings_cols)\n",
    "    embeddings_cols = [emb[0] for emb in embeddings_cols]\n",
    "else:\n",
    "    emb_dim = {e:888 for e in embeddings_cols}\n",
    "deep_cols = embeddings_cols+continuous_cols"
   ],
   "metadata": {
    "collapsed": false,
    "pycharm": {
     "name": "#%%\n"
    }
   }
  },
  {
   "cell_type": "markdown",
   "source": [
    "#### Cross-product for binary ftrs"
   ],
   "metadata": {
    "collapsed": false,
    "pycharm": {
     "name": "#%% md\n"
    }
   }
  },
  {
   "cell_type": "code",
   "execution_count": 8,
   "outputs": [],
   "source": [
    "Y = np.array(df[target])\n",
    "# We copy the original dataset so we do not mutate it\n",
    "df_tmp = df.copy()[list(set(wide_cols + deep_cols))]\n",
    "\n",
    "# Build the crossed columns\n",
    "crossed_columns = []\n",
    "for cols in crossed_cols:\n",
    "    colname = '_'.join(cols)\n",
    "    df_tmp[colname] = df_tmp[cols].apply(lambda x: '-'.join(x), axis=1)\n",
    "    crossed_columns.append(colname)\n",
    "\n",
    "# Extract the categorical column names that can be one hot encoded later\n",
    "categorical_columns = list(df_tmp.select_dtypes(include=['object']).columns)"
   ],
   "metadata": {
    "collapsed": false,
    "pycharm": {
     "name": "#%%\n"
    }
   }
  },
  {
   "cell_type": "code",
   "execution_count": 9,
   "outputs": [
    {
     "data": {
      "text/plain": "['occupation',\n 'native-country',\n 'gender',\n 'workclass',\n 'education',\n 'relationship',\n 'education_occupation',\n 'native-country_occupation']"
     },
     "execution_count": 9,
     "metadata": {},
     "output_type": "execute_result"
    }
   ],
   "source": [
    "categorical_columns"
   ],
   "metadata": {
    "collapsed": false,
    "pycharm": {
     "name": "#%%\n"
    }
   }
  },
  {
   "cell_type": "code",
   "execution_count": 10,
   "outputs": [
    {
     "data": {
      "text/plain": "['education_occupation', 'native-country_occupation']"
     },
     "execution_count": 10,
     "metadata": {},
     "output_type": "execute_result"
    }
   ],
   "source": [
    "crossed_columns"
   ],
   "metadata": {
    "collapsed": false,
    "pycharm": {
     "name": "#%%\n"
    }
   }
  },
  {
   "cell_type": "code",
   "execution_count": 11,
   "outputs": [
    {
     "data": {
      "text/plain": "0            11th-Machine-op-inspct\n1           HS-grad-Farming-fishing\n2        Assoc-acdm-Protective-serv\n3    Some-college-Machine-op-inspct\n4                    Some-college-?\nName: education_occupation, dtype: object"
     },
     "execution_count": 11,
     "metadata": {},
     "output_type": "execute_result"
    }
   ],
   "source": [
    "df_tmp['education_occupation'].head()"
   ],
   "metadata": {
    "collapsed": false,
    "pycharm": {
     "name": "#%%\n"
    }
   }
  },
  {
   "cell_type": "code",
   "execution_count": 12,
   "outputs": [],
   "source": [
    "from utils.data_utils import label_encode\n",
    "\n",
    "# Encode the dataframe and get the encoding Dictionary only for the\n",
    "# deep_cols (for the wide_cols is uneccessary)\n",
    "encoding_dict,df_tmp = label_encode(df_tmp)\n",
    "encoding_dict = {k:encoding_dict[k] for k in encoding_dict if k in deep_cols}\n",
    "embeddings_input = []\n",
    "for k,v in encoding_dict.items():\n",
    "    embeddings_input.append((k, len(v), emb_dim[k]))"
   ],
   "metadata": {
    "collapsed": false,
    "pycharm": {
     "name": "#%%\n"
    }
   }
  },
  {
   "cell_type": "code",
   "execution_count": 13,
   "outputs": [
    {
     "data": {
      "text/plain": "{'occupation': {'Machine-op-inspct': 0,\n  'Farming-fishing': 1,\n  'Protective-serv': 2,\n  '?': 3,\n  'Other-service': 4,\n  'Prof-specialty': 5,\n  'Craft-repair': 6,\n  'Adm-clerical': 7,\n  'Exec-managerial': 8,\n  'Tech-support': 9,\n  'Sales': 10,\n  'Priv-house-serv': 11,\n  'Transport-moving': 12,\n  'Handlers-cleaners': 13,\n  'Armed-Forces': 14},\n 'native-country': {'United-States': 0,\n  '?': 1,\n  'Peru': 2,\n  'Guatemala': 3,\n  'Mexico': 4,\n  'Dominican-Republic': 5,\n  'Ireland': 6,\n  'Germany': 7,\n  'Philippines': 8,\n  'Thailand': 9,\n  'Haiti': 10,\n  'El-Salvador': 11,\n  'Puerto-Rico': 12,\n  'Vietnam': 13,\n  'South': 14,\n  'Columbia': 15,\n  'Japan': 16,\n  'India': 17,\n  'Cambodia': 18,\n  'Poland': 19,\n  'Laos': 20,\n  'England': 21,\n  'Cuba': 22,\n  'Taiwan': 23,\n  'Italy': 24,\n  'Canada': 25,\n  'Portugal': 26,\n  'China': 27,\n  'Nicaragua': 28,\n  'Honduras': 29,\n  'Iran': 30,\n  'Scotland': 31,\n  'Jamaica': 32,\n  'Ecuador': 33,\n  'Yugoslavia': 34,\n  'Hungary': 35,\n  'Hong': 36,\n  'Greece': 37,\n  'Trinadad&Tobago': 38,\n  'Outlying-US(Guam-USVI-etc)': 39,\n  'France': 40,\n  'Holand-Netherlands': 41},\n 'workclass': {'Private': 0,\n  'Local-gov': 1,\n  '?': 2,\n  'Self-emp-not-inc': 3,\n  'Federal-gov': 4,\n  'State-gov': 5,\n  'Self-emp-inc': 6,\n  'Without-pay': 7,\n  'Never-worked': 8},\n 'education': {'11th': 0,\n  'HS-grad': 1,\n  'Assoc-acdm': 2,\n  'Some-college': 3,\n  '10th': 4,\n  'Prof-school': 5,\n  '7th-8th': 6,\n  'Bachelors': 7,\n  'Masters': 8,\n  'Doctorate': 9,\n  '5th-6th': 10,\n  'Assoc-voc': 11,\n  '9th': 12,\n  '12th': 13,\n  '1st-4th': 14,\n  'Preschool': 15},\n 'relationship': {'Own-child': 0,\n  'Husband': 1,\n  'Not-in-family': 2,\n  'Unmarried': 3,\n  'Wife': 4,\n  'Other-relative': 5}}"
     },
     "execution_count": 13,
     "metadata": {},
     "output_type": "execute_result"
    }
   ],
   "source": [
    "encoding_dict"
   ],
   "metadata": {
    "collapsed": false,
    "pycharm": {
     "name": "#%%\n"
    }
   }
  },
  {
   "cell_type": "code",
   "execution_count": 14,
   "outputs": [
    {
     "data": {
      "text/plain": "[('occupation', 15, 10),\n ('native-country', 42, 12),\n ('workclass', 9, 10),\n ('education', 16, 10),\n ('relationship', 6, 8)]"
     },
     "execution_count": 14,
     "metadata": {},
     "output_type": "execute_result"
    }
   ],
   "source": [
    "embeddings_input"
   ],
   "metadata": {
    "collapsed": false,
    "pycharm": {
     "name": "#%%\n"
    }
   }
  },
  {
   "cell_type": "code",
   "execution_count": null,
   "outputs": [],
   "source": [
    "# select the deep_cols and get the column index that will be use later\n",
    "# to slice the tensors\n",
    "df_deep = df_tmp[deep_cols]\n",
    "deep_column_idx = {k:v for v,k in enumerate(df_deep.columns)}\n",
    "\n",
    "# The continous columns will be concatenated with the embeddings, so you\n",
    "# probably want to normalize them first\n",
    "from sklearn.preprocessing import StandardScaler\n",
    "scaler = StandardScaler()\n",
    "for cc in continuous_cols:\n",
    "    df_deep[cc]  = scaler.fit_transform(df_deep[cc].values.reshape(-1,1))\n",
    "\n",
    "# select the wide_cols and one-hot encode those that are categorical\n",
    "df_wide = df_tmp[wide_cols+crossed_columns]\n",
    "del(df_tmp)\n",
    "dummy_cols = [c for c in wide_cols+crossed_columns if c in categorical_columns]\n",
    "df_wide = pd.get_dummies(df_wide, columns=dummy_cols)"
   ],
   "metadata": {
    "collapsed": false,
    "pycharm": {
     "name": "#%%\n"
    }
   }
  },
  {
   "cell_type": "code",
   "execution_count": 29,
   "outputs": [
    {
     "data": {
      "text/plain": "       education  relationship  workclass  occupation  native-country  \\\n0              0             0          0           0               0   \n1              1             1          0           1               0   \n2              2             1          1           2               0   \n3              3             1          0           0               0   \n4              3             0          2           3               0   \n...          ...           ...        ...         ...             ...   \n48837          2             4          0           9               0   \n48838          1             1          0           0               0   \n48839          1             3          0           7               0   \n48840          1             0          0           7               0   \n48841          1             4          6           8               0   \n\n            age  hours-per-week  \n0     -0.995129       -0.034087  \n1     -0.046942        0.772930  \n2     -0.776316       -0.034087  \n3      0.390683       -0.034087  \n4     -1.505691       -0.841104  \n...         ...             ...  \n48837 -0.849254       -0.195490  \n48838  0.098933       -0.034087  \n48839  1.411808       -0.034087  \n48840 -1.213941       -1.648120  \n48841  0.974183       -0.034087  \n\n[48842 rows x 7 columns]",
      "text/html": "<div>\n<style scoped>\n    .dataframe tbody tr th:only-of-type {\n        vertical-align: middle;\n    }\n\n    .dataframe tbody tr th {\n        vertical-align: top;\n    }\n\n    .dataframe thead th {\n        text-align: right;\n    }\n</style>\n<table border=\"1\" class=\"dataframe\">\n  <thead>\n    <tr style=\"text-align: right;\">\n      <th></th>\n      <th>education</th>\n      <th>relationship</th>\n      <th>workclass</th>\n      <th>occupation</th>\n      <th>native-country</th>\n      <th>age</th>\n      <th>hours-per-week</th>\n    </tr>\n  </thead>\n  <tbody>\n    <tr>\n      <th>0</th>\n      <td>0</td>\n      <td>0</td>\n      <td>0</td>\n      <td>0</td>\n      <td>0</td>\n      <td>-0.995129</td>\n      <td>-0.034087</td>\n    </tr>\n    <tr>\n      <th>1</th>\n      <td>1</td>\n      <td>1</td>\n      <td>0</td>\n      <td>1</td>\n      <td>0</td>\n      <td>-0.046942</td>\n      <td>0.772930</td>\n    </tr>\n    <tr>\n      <th>2</th>\n      <td>2</td>\n      <td>1</td>\n      <td>1</td>\n      <td>2</td>\n      <td>0</td>\n      <td>-0.776316</td>\n      <td>-0.034087</td>\n    </tr>\n    <tr>\n      <th>3</th>\n      <td>3</td>\n      <td>1</td>\n      <td>0</td>\n      <td>0</td>\n      <td>0</td>\n      <td>0.390683</td>\n      <td>-0.034087</td>\n    </tr>\n    <tr>\n      <th>4</th>\n      <td>3</td>\n      <td>0</td>\n      <td>2</td>\n      <td>3</td>\n      <td>0</td>\n      <td>-1.505691</td>\n      <td>-0.841104</td>\n    </tr>\n    <tr>\n      <th>...</th>\n      <td>...</td>\n      <td>...</td>\n      <td>...</td>\n      <td>...</td>\n      <td>...</td>\n      <td>...</td>\n      <td>...</td>\n    </tr>\n    <tr>\n      <th>48837</th>\n      <td>2</td>\n      <td>4</td>\n      <td>0</td>\n      <td>9</td>\n      <td>0</td>\n      <td>-0.849254</td>\n      <td>-0.195490</td>\n    </tr>\n    <tr>\n      <th>48838</th>\n      <td>1</td>\n      <td>1</td>\n      <td>0</td>\n      <td>0</td>\n      <td>0</td>\n      <td>0.098933</td>\n      <td>-0.034087</td>\n    </tr>\n    <tr>\n      <th>48839</th>\n      <td>1</td>\n      <td>3</td>\n      <td>0</td>\n      <td>7</td>\n      <td>0</td>\n      <td>1.411808</td>\n      <td>-0.034087</td>\n    </tr>\n    <tr>\n      <th>48840</th>\n      <td>1</td>\n      <td>0</td>\n      <td>0</td>\n      <td>7</td>\n      <td>0</td>\n      <td>-1.213941</td>\n      <td>-1.648120</td>\n    </tr>\n    <tr>\n      <th>48841</th>\n      <td>1</td>\n      <td>4</td>\n      <td>6</td>\n      <td>8</td>\n      <td>0</td>\n      <td>0.974183</td>\n      <td>-0.034087</td>\n    </tr>\n  </tbody>\n</table>\n<p>48842 rows × 7 columns</p>\n</div>"
     },
     "execution_count": 29,
     "metadata": {},
     "output_type": "execute_result"
    },
    {
     "data": {
      "text/plain": "       age  hours-per-week  education_0  education_1  education_2  \\\n0       25              40            1            0            0   \n1       38              50            0            1            0   \n2       28              40            0            0            1   \n3       44              40            0            0            0   \n4       18              30            0            0            0   \n...    ...             ...          ...          ...          ...   \n48837   27              38            0            0            1   \n48838   40              40            0            1            0   \n48839   58              40            0            1            0   \n48840   22              20            0            1            0   \n48841   52              40            0            1            0   \n\n       education_3  education_4  education_5  education_6  education_7  ...  \\\n0                0            0            0            0            0  ...   \n1                0            0            0            0            0  ...   \n2                0            0            0            0            0  ...   \n3                1            0            0            0            0  ...   \n4                1            0            0            0            0  ...   \n...            ...          ...          ...          ...          ...  ...   \n48837            0            0            0            0            0  ...   \n48838            0            0            0            0            0  ...   \n48839            0            0            0            0            0  ...   \n48840            0            0            0            0            0  ...   \n48841            0            0            0            0            0  ...   \n\n       native-country_occupation_471  native-country_occupation_472  \\\n0                                  0                              0   \n1                                  0                              0   \n2                                  0                              0   \n3                                  0                              0   \n4                                  0                              0   \n...                              ...                            ...   \n48837                              0                              0   \n48838                              0                              0   \n48839                              0                              0   \n48840                              0                              0   \n48841                              0                              0   \n\n       native-country_occupation_473  native-country_occupation_474  \\\n0                                  0                              0   \n1                                  0                              0   \n2                                  0                              0   \n3                                  0                              0   \n4                                  0                              0   \n...                              ...                            ...   \n48837                              0                              0   \n48838                              0                              0   \n48839                              0                              0   \n48840                              0                              0   \n48841                              0                              0   \n\n       native-country_occupation_475  native-country_occupation_476  \\\n0                                  0                              0   \n1                                  0                              0   \n2                                  0                              0   \n3                                  0                              0   \n4                                  0                              0   \n...                              ...                            ...   \n48837                              0                              0   \n48838                              0                              0   \n48839                              0                              0   \n48840                              0                              0   \n48841                              0                              0   \n\n       native-country_occupation_477  native-country_occupation_478  \\\n0                                  0                              0   \n1                                  0                              0   \n2                                  0                              0   \n3                                  0                              0   \n4                                  0                              0   \n...                              ...                            ...   \n48837                              0                              0   \n48838                              0                              0   \n48839                              0                              0   \n48840                              0                              0   \n48841                              0                              0   \n\n       native-country_occupation_479  native-country_occupation_480  \n0                                  0                              0  \n1                                  0                              0  \n2                                  0                              0  \n3                                  0                              0  \n4                                  0                              0  \n...                              ...                            ...  \n48837                              0                              0  \n48838                              0                              0  \n48839                              0                              0  \n48840                              0                              0  \n48841                              0                              0  \n\n[48842 rows x 798 columns]",
      "text/html": "<div>\n<style scoped>\n    .dataframe tbody tr th:only-of-type {\n        vertical-align: middle;\n    }\n\n    .dataframe tbody tr th {\n        vertical-align: top;\n    }\n\n    .dataframe thead th {\n        text-align: right;\n    }\n</style>\n<table border=\"1\" class=\"dataframe\">\n  <thead>\n    <tr style=\"text-align: right;\">\n      <th></th>\n      <th>age</th>\n      <th>hours-per-week</th>\n      <th>education_0</th>\n      <th>education_1</th>\n      <th>education_2</th>\n      <th>education_3</th>\n      <th>education_4</th>\n      <th>education_5</th>\n      <th>education_6</th>\n      <th>education_7</th>\n      <th>...</th>\n      <th>native-country_occupation_471</th>\n      <th>native-country_occupation_472</th>\n      <th>native-country_occupation_473</th>\n      <th>native-country_occupation_474</th>\n      <th>native-country_occupation_475</th>\n      <th>native-country_occupation_476</th>\n      <th>native-country_occupation_477</th>\n      <th>native-country_occupation_478</th>\n      <th>native-country_occupation_479</th>\n      <th>native-country_occupation_480</th>\n    </tr>\n  </thead>\n  <tbody>\n    <tr>\n      <th>0</th>\n      <td>25</td>\n      <td>40</td>\n      <td>1</td>\n      <td>0</td>\n      <td>0</td>\n      <td>0</td>\n      <td>0</td>\n      <td>0</td>\n      <td>0</td>\n      <td>0</td>\n      <td>...</td>\n      <td>0</td>\n      <td>0</td>\n      <td>0</td>\n      <td>0</td>\n      <td>0</td>\n      <td>0</td>\n      <td>0</td>\n      <td>0</td>\n      <td>0</td>\n      <td>0</td>\n    </tr>\n    <tr>\n      <th>1</th>\n      <td>38</td>\n      <td>50</td>\n      <td>0</td>\n      <td>1</td>\n      <td>0</td>\n      <td>0</td>\n      <td>0</td>\n      <td>0</td>\n      <td>0</td>\n      <td>0</td>\n      <td>...</td>\n      <td>0</td>\n      <td>0</td>\n      <td>0</td>\n      <td>0</td>\n      <td>0</td>\n      <td>0</td>\n      <td>0</td>\n      <td>0</td>\n      <td>0</td>\n      <td>0</td>\n    </tr>\n    <tr>\n      <th>2</th>\n      <td>28</td>\n      <td>40</td>\n      <td>0</td>\n      <td>0</td>\n      <td>1</td>\n      <td>0</td>\n      <td>0</td>\n      <td>0</td>\n      <td>0</td>\n      <td>0</td>\n      <td>...</td>\n      <td>0</td>\n      <td>0</td>\n      <td>0</td>\n      <td>0</td>\n      <td>0</td>\n      <td>0</td>\n      <td>0</td>\n      <td>0</td>\n      <td>0</td>\n      <td>0</td>\n    </tr>\n    <tr>\n      <th>3</th>\n      <td>44</td>\n      <td>40</td>\n      <td>0</td>\n      <td>0</td>\n      <td>0</td>\n      <td>1</td>\n      <td>0</td>\n      <td>0</td>\n      <td>0</td>\n      <td>0</td>\n      <td>...</td>\n      <td>0</td>\n      <td>0</td>\n      <td>0</td>\n      <td>0</td>\n      <td>0</td>\n      <td>0</td>\n      <td>0</td>\n      <td>0</td>\n      <td>0</td>\n      <td>0</td>\n    </tr>\n    <tr>\n      <th>4</th>\n      <td>18</td>\n      <td>30</td>\n      <td>0</td>\n      <td>0</td>\n      <td>0</td>\n      <td>1</td>\n      <td>0</td>\n      <td>0</td>\n      <td>0</td>\n      <td>0</td>\n      <td>...</td>\n      <td>0</td>\n      <td>0</td>\n      <td>0</td>\n      <td>0</td>\n      <td>0</td>\n      <td>0</td>\n      <td>0</td>\n      <td>0</td>\n      <td>0</td>\n      <td>0</td>\n    </tr>\n    <tr>\n      <th>...</th>\n      <td>...</td>\n      <td>...</td>\n      <td>...</td>\n      <td>...</td>\n      <td>...</td>\n      <td>...</td>\n      <td>...</td>\n      <td>...</td>\n      <td>...</td>\n      <td>...</td>\n      <td>...</td>\n      <td>...</td>\n      <td>...</td>\n      <td>...</td>\n      <td>...</td>\n      <td>...</td>\n      <td>...</td>\n      <td>...</td>\n      <td>...</td>\n      <td>...</td>\n      <td>...</td>\n    </tr>\n    <tr>\n      <th>48837</th>\n      <td>27</td>\n      <td>38</td>\n      <td>0</td>\n      <td>0</td>\n      <td>1</td>\n      <td>0</td>\n      <td>0</td>\n      <td>0</td>\n      <td>0</td>\n      <td>0</td>\n      <td>...</td>\n      <td>0</td>\n      <td>0</td>\n      <td>0</td>\n      <td>0</td>\n      <td>0</td>\n      <td>0</td>\n      <td>0</td>\n      <td>0</td>\n      <td>0</td>\n      <td>0</td>\n    </tr>\n    <tr>\n      <th>48838</th>\n      <td>40</td>\n      <td>40</td>\n      <td>0</td>\n      <td>1</td>\n      <td>0</td>\n      <td>0</td>\n      <td>0</td>\n      <td>0</td>\n      <td>0</td>\n      <td>0</td>\n      <td>...</td>\n      <td>0</td>\n      <td>0</td>\n      <td>0</td>\n      <td>0</td>\n      <td>0</td>\n      <td>0</td>\n      <td>0</td>\n      <td>0</td>\n      <td>0</td>\n      <td>0</td>\n    </tr>\n    <tr>\n      <th>48839</th>\n      <td>58</td>\n      <td>40</td>\n      <td>0</td>\n      <td>1</td>\n      <td>0</td>\n      <td>0</td>\n      <td>0</td>\n      <td>0</td>\n      <td>0</td>\n      <td>0</td>\n      <td>...</td>\n      <td>0</td>\n      <td>0</td>\n      <td>0</td>\n      <td>0</td>\n      <td>0</td>\n      <td>0</td>\n      <td>0</td>\n      <td>0</td>\n      <td>0</td>\n      <td>0</td>\n    </tr>\n    <tr>\n      <th>48840</th>\n      <td>22</td>\n      <td>20</td>\n      <td>0</td>\n      <td>1</td>\n      <td>0</td>\n      <td>0</td>\n      <td>0</td>\n      <td>0</td>\n      <td>0</td>\n      <td>0</td>\n      <td>...</td>\n      <td>0</td>\n      <td>0</td>\n      <td>0</td>\n      <td>0</td>\n      <td>0</td>\n      <td>0</td>\n      <td>0</td>\n      <td>0</td>\n      <td>0</td>\n      <td>0</td>\n    </tr>\n    <tr>\n      <th>48841</th>\n      <td>52</td>\n      <td>40</td>\n      <td>0</td>\n      <td>1</td>\n      <td>0</td>\n      <td>0</td>\n      <td>0</td>\n      <td>0</td>\n      <td>0</td>\n      <td>0</td>\n      <td>...</td>\n      <td>0</td>\n      <td>0</td>\n      <td>0</td>\n      <td>0</td>\n      <td>0</td>\n      <td>0</td>\n      <td>0</td>\n      <td>0</td>\n      <td>0</td>\n      <td>0</td>\n    </tr>\n  </tbody>\n</table>\n<p>48842 rows × 798 columns</p>\n</div>"
     },
     "execution_count": 29,
     "metadata": {},
     "output_type": "execute_result"
    }
   ],
   "source": [
    "df_deep\n",
    "df_wide"
   ],
   "metadata": {
    "collapsed": false,
    "pycharm": {
     "name": "#%%\n"
    }
   }
  },
  {
   "cell_type": "markdown",
   "source": [
    "#### Train/Test split and build the output dict"
   ],
   "metadata": {
    "collapsed": false,
    "pycharm": {
     "name": "#%% md\n"
    }
   }
  },
  {
   "cell_type": "code",
   "execution_count": 30,
   "outputs": [],
   "source": [
    "from sklearn.model_selection import train_test_split\n",
    "from collections import namedtuple\n",
    "\n",
    "seed = 1981\n",
    "X_train_deep, X_test_deep = train_test_split(df_deep.values, test_size=0.3, random_state=seed)\n",
    "X_train_wide, X_test_wide = train_test_split(df_wide.values, test_size=0.3, random_state=seed)\n",
    "y_train, y_test = train_test_split(Y, test_size=0.3, random_state=seed)\n",
    "\n",
    "# Building the output dictionary\n",
    "wd_dataset = dict()\n",
    "train_dataset = namedtuple('train_dataset', 'wide, deep, labels')\n",
    "test_dataset  = namedtuple('test_dataset' , 'wide, deep, labels')\n",
    "wd_dataset['train_dataset'] = train_dataset(X_train_wide, X_train_deep, y_train)\n",
    "wd_dataset['test_dataset']  = test_dataset(X_test_wide, X_test_deep, y_test)\n",
    "wd_dataset['embeddings_input']  = embeddings_input\n",
    "wd_dataset['deep_column_idx'] = deep_column_idx\n",
    "wd_dataset['encoding_dict'] = encoding_dict"
   ],
   "metadata": {
    "collapsed": false,
    "pycharm": {
     "name": "#%%\n"
    }
   }
  }
 ],
 "metadata": {
  "kernelspec": {
   "display_name": "Python 3",
   "language": "python",
   "name": "python3"
  },
  "language_info": {
   "codemirror_mode": {
    "name": "ipython",
    "version": 2
   },
   "file_extension": ".py",
   "mimetype": "text/x-python",
   "name": "python",
   "nbconvert_exporter": "python",
   "pygments_lexer": "ipython2",
   "version": "2.7.6"
  }
 },
 "nbformat": 4,
 "nbformat_minor": 0
}