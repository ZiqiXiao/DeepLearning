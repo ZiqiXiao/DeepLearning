{
 "cells": [
  {
   "cell_type": "code",
   "execution_count": 1,
   "outputs": [],
   "source": [
    "import keras\n",
    "import pandas as pd\n",
    "import tensorflow as tf\n",
    "import tensorflow.compat.v1 as tf1\n",
    "# # set this so LinearModel.fit won't have bug\n",
    "from tensorflow.python.framework.ops import disable_eager_execution\n",
    "disable_eager_execution()"
   ],
   "metadata": {
    "collapsed": false,
    "pycharm": {
     "name": "#%%\n"
    }
   }
  },
  {
   "cell_type": "markdown",
   "source": [
    "#### Prepare data for model"
   ],
   "metadata": {
    "collapsed": false
   }
  },
  {
   "cell_type": "code",
   "execution_count": 2,
   "outputs": [],
   "source": [
    "x_train = pd.read_csv('https://storage.googleapis.com/tf-datasets/titanic/train.csv')\n",
    "x_eval = pd.read_csv('https://storage.googleapis.com/tf-datasets/titanic/eval.csv')"
   ],
   "metadata": {
    "collapsed": false,
    "pycharm": {
     "name": "#%%\n"
    }
   }
  },
  {
   "cell_type": "code",
   "execution_count": 3,
   "outputs": [],
   "source": [
    "# 将类别转为数字\n",
    "x_train['sex'].replace(('male', 'female'), (0, 1), inplace=True)\n",
    "x_eval['sex'].replace(('male', 'female'), (0, 1), inplace=True)\n",
    "\n",
    "x_train['alone'].replace(('n', 'y'), (0, 1), inplace=True)\n",
    "x_eval['alone'].replace(('n', 'y'), (0, 1), inplace=True)\n",
    "\n",
    "x_train['class'].replace(('First', 'Second', 'Third'), (1, 2, 3), inplace=True)\n",
    "x_eval['class'].replace(('First', 'Second', 'Third'), (1, 2, 3), inplace=True)\n",
    "\n",
    "# 将没用的列Drop\n",
    "x_train.drop(['embark_town', 'deck'], axis=1, inplace=True)\n",
    "x_eval.drop(['embark_town', 'deck'], axis=1, inplace=True)\n",
    "\n",
    "# 将target单独拿出\n",
    "y_train = x_train.pop('survived')\n",
    "y_eval = x_eval.pop('survived')"
   ],
   "metadata": {
    "collapsed": false,
    "pycharm": {
     "name": "#%%\n"
    }
   }
  },
  {
   "cell_type": "code",
   "execution_count": 4,
   "outputs": [],
   "source": [
    "# Data setup for TensorFlow 1 with `tf.estimator`\n",
    "def _input_fn():\n",
    "    return tf1.data.Dataset.from_tensor_slices((dict(x_train), y_train)).batch(32)\n",
    "\n",
    "\n",
    "def _eval_input_fn():\n",
    "    return tf1.data.Dataset.from_tensor_slices((dict(x_eval), y_eval)).batch(32)\n",
    "\n",
    "\n",
    "FEATURE_NAMES = [\n",
    "    'age', 'fare', 'sex', 'n_siblings_spouses', 'parch', 'class', 'alone'\n",
    "]\n",
    "\n",
    "feature_columns = []\n",
    "for fn in FEATURE_NAMES:\n",
    "    feat_col = tf1.feature_column.numeric_column(fn, dtype=tf.float32)\n",
    "    feature_columns.append(feat_col)"
   ],
   "metadata": {
    "collapsed": false,
    "pycharm": {
     "name": "#%%\n"
    }
   }
  },
  {
   "cell_type": "code",
   "execution_count": 5,
   "outputs": [],
   "source": [
    "# Create a method to instantiate a simplistic sample optimizer to use with our various TensorFlow 1 Estimator and TensorFlow 2 Keras models\n",
    "\n",
    "def create_sample_optimizer(tf_version):\n",
    "    if tf_version == 'tf1':\n",
    "        optimizer = lambda: tf.keras.optimizers.Ftrl(\n",
    "            l1_regularization_strength=0.001,\n",
    "            learning_rate=tf1.train.exponential_decay(\n",
    "                learning_rate=0.1,\n",
    "                global_step=tf1.train.get_global_step(),\n",
    "                decay_steps=10000,\n",
    "                decay_rate=0.9))\n",
    "    elif tf_version == 'tf2':\n",
    "        optimizer = tf.keras.optimizers.Ftrl(\n",
    "            l1_regularization_strength=0.001,\n",
    "            learning_rate=tf.keras.optimizers.schedules.ExponentialDecay(\n",
    "                initial_learning_rate=0.1, decay_steps=10000, decay_rate=0.9))\n",
    "    return optimizer\n"
   ],
   "metadata": {
    "collapsed": false,
    "pycharm": {
     "name": "#%%\n"
    }
   }
  },
  {
   "cell_type": "markdown",
   "source": [
    "#### Create Model"
   ],
   "metadata": {
    "collapsed": false,
    "pycharm": {
     "name": "#%% md\n"
    }
   }
  },
  {
   "cell_type": "markdown",
   "source": [
    "##### Train Model SEPARATELY before JOINTLY Training"
   ],
   "metadata": {
    "collapsed": false
   }
  },
  {
   "cell_type": "code",
   "execution_count": 17,
   "outputs": [],
   "source": [
    "?? tf.keras.losses"
   ],
   "metadata": {
    "collapsed": false,
    "pycharm": {
     "name": "#%%\n"
    }
   }
  },
  {
   "cell_type": "code",
   "execution_count": null,
   "outputs": [],
   "source": [
    "x_train = x_train.to_numpy()\n",
    "y_train = y_train.to_numpy()"
   ],
   "metadata": {
    "collapsed": false,
    "pycharm": {
     "name": "#%%\n"
    }
   }
  },
  {
   "cell_type": "code",
   "execution_count": 24,
   "outputs": [
    {
     "name": "stdout",
     "output_type": "stream",
     "text": [
      "Train on 627 samples\n",
      "Epoch 1/10\n",
      "627/627 [==============================] - 0s 229us/sample - loss: 0.2756\n",
      "Epoch 2/10\n",
      "627/627 [==============================] - 0s 81us/sample - loss: 0.2445\n",
      "Epoch 3/10\n",
      " 32/627 [>.............................] - ETA: 0s - loss: 0.2150"
     ]
    },
    {
     "name": "stderr",
     "output_type": "stream",
     "text": [
      "2022-03-02 10:59:32.528941: I tensorflow/core/grappler/optimizers/custom_graph_optimizer_registry.cc:113] Plugin optimizer for device_type GPU is enabled.\n",
      "2022-03-02 10:59:32.552179: I tensorflow/core/grappler/optimizers/custom_graph_optimizer_registry.cc:113] Plugin optimizer for device_type GPU is enabled.\n",
      "2022-03-02 10:59:32.562019: I tensorflow/core/grappler/optimizers/custom_graph_optimizer_registry.cc:113] Plugin optimizer for device_type GPU is enabled.\n"
     ]
    },
    {
     "name": "stdout",
     "output_type": "stream",
     "text": [
      "627/627 [==============================] - 0s 78us/sample - loss: 0.2410\n",
      "Epoch 4/10\n",
      "627/627 [==============================] - 0s 78us/sample - loss: 0.2387\n",
      "Epoch 5/10\n",
      "627/627 [==============================] - 0s 90us/sample - loss: 0.2375\n",
      "Epoch 6/10\n",
      "627/627 [==============================] - 0s 86us/sample - loss: 0.2371\n",
      "Epoch 7/10\n",
      "627/627 [==============================] - 0s 98us/sample - loss: 0.2359\n",
      "Epoch 8/10\n",
      "627/627 [==============================] - 0s 89us/sample - loss: 0.2355\n",
      "Epoch 9/10\n",
      "627/627 [==============================] - 0s 92us/sample - loss: 0.2348\n",
      "Epoch 10/10\n",
      "627/627 [==============================] - 0s 78us/sample - loss: 0.2343\n",
      "Train on 627 samples\n",
      "Epoch 1/10\n",
      "627/627 [==============================] - 0s 288us/sample - loss: 1710.4424\n",
      "Epoch 2/10\n",
      " 32/627 [>.............................] - ETA: 0s - loss: 1175.6158"
     ]
    },
    {
     "name": "stderr",
     "output_type": "stream",
     "text": [
      "2022-03-02 10:59:33.205781: I tensorflow/core/grappler/optimizers/custom_graph_optimizer_registry.cc:113] Plugin optimizer for device_type GPU is enabled.\n",
      "2022-03-02 10:59:33.229374: I tensorflow/core/grappler/optimizers/custom_graph_optimizer_registry.cc:113] Plugin optimizer for device_type GPU is enabled.\n",
      "2022-03-02 10:59:33.243872: I tensorflow/core/grappler/optimizers/custom_graph_optimizer_registry.cc:113] Plugin optimizer for device_type GPU is enabled.\n"
     ]
    },
    {
     "name": "stdout",
     "output_type": "stream",
     "text": [
      "627/627 [==============================] - 0s 106us/sample - loss: 1602.4912\n",
      "Epoch 3/10\n",
      "627/627 [==============================] - 0s 103us/sample - loss: 1507.0347\n",
      "Epoch 4/10\n",
      "627/627 [==============================] - 0s 105us/sample - loss: 1417.3558\n",
      "Epoch 5/10\n",
      "627/627 [==============================] - 0s 110us/sample - loss: 1336.2586\n",
      "Epoch 6/10\n",
      "627/627 [==============================] - 0s 110us/sample - loss: 1256.6302\n",
      "Epoch 7/10\n",
      "627/627 [==============================] - 0s 109us/sample - loss: 1179.3949\n",
      "Epoch 8/10\n",
      "627/627 [==============================] - 0s 110us/sample - loss: 1107.1923\n",
      "Epoch 9/10\n",
      "627/627 [==============================] - 0s 110us/sample - loss: 1034.7015\n",
      "Epoch 10/10\n",
      "627/627 [==============================] - 0s 105us/sample - loss: 976.0029\n",
      "Train on 627 samples\n",
      "Epoch 1/10\n",
      " 32/627 [>.............................] - ETA: 2s - loss: 4.3211 - binary_accuracy: 0.7188 - false_negatives_2: 3.0000"
     ]
    },
    {
     "name": "stderr",
     "output_type": "stream",
     "text": [
      "2022-03-02 10:59:34.133483: I tensorflow/core/grappler/optimizers/custom_graph_optimizer_registry.cc:113] Plugin optimizer for device_type GPU is enabled.\n",
      "2022-03-02 10:59:34.165316: I tensorflow/core/grappler/optimizers/custom_graph_optimizer_registry.cc:113] Plugin optimizer for device_type GPU is enabled.\n",
      "2022-03-02 10:59:34.178945: I tensorflow/core/grappler/optimizers/custom_graph_optimizer_registry.cc:113] Plugin optimizer for device_type GPU is enabled.\n",
      "2022-03-02 10:59:34.208758: I tensorflow/core/grappler/optimizers/custom_graph_optimizer_registry.cc:113] Plugin optimizer for device_type GPU is enabled.\n",
      "2022-03-02 10:59:34.216595: I tensorflow/core/grappler/optimizers/custom_graph_optimizer_registry.cc:113] Plugin optimizer for device_type GPU is enabled.\n"
     ]
    },
    {
     "name": "stdout",
     "output_type": "stream",
     "text": [
      "627/627 [==============================] - 0s 394us/sample - loss: 4.9784 - binary_accuracy: 0.6635 - false_negatives_2: 94.0000\n",
      "Epoch 2/10\n",
      "627/627 [==============================] - 0s 181us/sample - loss: 4.8661 - binary_accuracy: 0.6699 - false_negatives_2: 103.0000\n",
      "Epoch 3/10\n",
      "627/627 [==============================] - 0s 182us/sample - loss: 5.9411 - binary_accuracy: 0.6108 - false_negatives_2: 225.0000\n",
      "Epoch 4/10\n",
      "627/627 [==============================] - 0s 179us/sample - loss: 5.9781 - binary_accuracy: 0.6124 - false_negatives_2: 243.0000\n",
      "Epoch 5/10\n",
      "627/627 [==============================] - 0s 180us/sample - loss: 5.9781 - binary_accuracy: 0.6124 - false_negatives_2: 243.0000\n",
      "Epoch 6/10\n",
      "627/627 [==============================] - 0s 175us/sample - loss: 5.9781 - binary_accuracy: 0.6124 - false_negatives_2: 243.0000\n",
      "Epoch 7/10\n",
      "627/627 [==============================] - 0s 171us/sample - loss: 5.9781 - binary_accuracy: 0.6124 - false_negatives_2: 243.0000\n",
      "Epoch 8/10\n",
      "627/627 [==============================] - 0s 161us/sample - loss: 5.9781 - binary_accuracy: 0.6124 - false_negatives_2: 243.0000\n",
      "Epoch 9/10\n",
      "627/627 [==============================] - 0s 179us/sample - loss: 5.9781 - binary_accuracy: 0.6124 - false_negatives_2: 243.0000\n",
      "Epoch 10/10\n",
      "627/627 [==============================] - 0s 180us/sample - loss: 5.9781 - binary_accuracy: 0.6124 - false_negatives_2: 243.0000\n"
     ]
    },
    {
     "data": {
      "text/plain": "<keras.callbacks.History at 0x2b9db6df0>"
     },
     "execution_count": 24,
     "metadata": {},
     "output_type": "execute_result"
    }
   ],
   "source": [
    "linear_model = tf.keras.experimental.LinearModel()\n",
    "linear_model.compile('adagrad', 'mse')\n",
    "linear_model.fit(x_train, y_train, epochs=10)\n",
    "dnn_model = tf.keras.Sequential([keras.layers.Dense(units=1)])\n",
    "dnn_model.compile('rmsprop', 'mse')\n",
    "dnn_model.fit(x_train, y_train, epochs=10)\n",
    "combined_model = tf.keras.experimental.WideDeepModel(linear_model, dnn_model)\n",
    "combined_model.compile(optimizer=['sgd', 'adam'],\n",
    "                       loss=tf.keras.losses.BinaryCrossentropy(),\n",
    "                       metrics=[tf.keras.metrics.BinaryAccuracy(),\n",
    "                                tf.keras.metrics.FalseNegatives()])\n",
    "combined_model.fit([x_train, x_train], y_train, epochs=10)"
   ],
   "metadata": {
    "collapsed": false,
    "pycharm": {
     "name": "#%%\n"
    }
   }
  },
  {
   "cell_type": "code",
   "execution_count": 38,
   "outputs": [
    {
     "data": {
      "text/plain": "{'loss': 5.7843553658687705,\n 'binary_accuracy': 0.625,\n 'false_negatives_2': 99.0}"
     },
     "execution_count": 38,
     "metadata": {},
     "output_type": "execute_result"
    }
   ],
   "source": [
    "result = combined_model.evaluate([x_eval, x_eval], y_eval)\n",
    "result = {out: result[i] for i, out in enumerate(combined_model.metrics_names)}\n",
    "result"
   ],
   "metadata": {
    "collapsed": false,
    "pycharm": {
     "name": "#%%\n"
    }
   }
  }
 ],
 "metadata": {
  "kernelspec": {
   "display_name": "Python 3",
   "language": "python",
   "name": "python3"
  },
  "language_info": {
   "codemirror_mode": {
    "name": "ipython",
    "version": 2
   },
   "file_extension": ".py",
   "mimetype": "text/x-python",
   "name": "python",
   "nbconvert_exporter": "python",
   "pygments_lexer": "ipython2",
   "version": "2.7.6"
  }
 },
 "nbformat": 4,
 "nbformat_minor": 0
}