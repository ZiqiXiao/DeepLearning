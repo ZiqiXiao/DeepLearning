{
 "cells": [
  {
   "cell_type": "code",
   "execution_count": 5,
   "metadata": {
    "collapsed": true,
    "pycharm": {
     "name": "#%%\n"
    }
   },
   "outputs": [
    {
     "data": {
      "text/plain": "True"
     },
     "execution_count": 5,
     "metadata": {},
     "output_type": "execute_result"
    }
   ],
   "source": [
    "import keras\n",
    "import pandas as pd\n",
    "import tensorflow as tf\n",
    "import tensorflow.compat.v1 as tf1\n",
    "# set this so LinearModel.fit won't have bug\n",
    "tf.config.get_soft_device_placement()"
   ]
  },
  {
   "cell_type": "markdown",
   "source": [
    "#### Prepare data for model"
   ],
   "metadata": {
    "collapsed": false,
    "pycharm": {
     "name": "#%% md\n"
    }
   }
  },
  {
   "cell_type": "code",
   "execution_count": 6,
   "outputs": [],
   "source": [
    "x_train = pd.read_csv('https://storage.googleapis.com/tf-datasets/titanic/train.csv')\n",
    "x_eval = pd.read_csv('https://storage.googleapis.com/tf-datasets/titanic/eval.csv')"
   ],
   "metadata": {
    "collapsed": false,
    "pycharm": {
     "name": "#%%\n"
    }
   }
  },
  {
   "cell_type": "code",
   "execution_count": 7,
   "outputs": [],
   "source": [
    "# 将类别转为数字\n",
    "x_train['sex'].replace(('male', 'female'), (0, 1), inplace=True)\n",
    "x_eval['sex'].replace(('male', 'female'), (0, 1), inplace=True)\n",
    "\n",
    "x_train['alone'].replace(('n', 'y'), (0, 1), inplace=True)\n",
    "x_eval['alone'].replace(('n', 'y'), (0, 1), inplace=True)\n",
    "\n",
    "x_train['class'].replace(('First', 'Second', 'Third'), (1, 2, 3), inplace=True)\n",
    "x_eval['class'].replace(('First', 'Second', 'Third'), (1, 2, 3), inplace=True)\n",
    "\n",
    "# 将没用的列Drop\n",
    "x_train.drop(['embark_town', 'deck'], axis=1, inplace=True)\n",
    "x_eval.drop(['embark_town', 'deck'], axis=1, inplace=True)\n",
    "\n",
    "# 将target单独拿出\n",
    "y_train = x_train.pop('survived')\n",
    "y_eval = x_eval.pop('survived')"
   ],
   "metadata": {
    "collapsed": false,
    "pycharm": {
     "name": "#%%\n"
    }
   }
  },
  {
   "cell_type": "code",
   "execution_count": 8,
   "outputs": [],
   "source": [
    "# Data setup for TensorFlow 1 with `tf.estimator`\n",
    "def _input_fn():\n",
    "    return tf1.data.Dataset.from_tensor_slices((dict(x_train), y_train)).batch(32)\n",
    "\n",
    "\n",
    "def _eval_input_fn():\n",
    "    return tf1.data.Dataset.from_tensor_slices((dict(x_eval), y_eval)).batch(32)\n",
    "\n",
    "\n",
    "FEATURE_NAMES = [\n",
    "    'age', 'fare', 'sex', 'n_siblings_spouses', 'parch', 'class', 'alone'\n",
    "]\n",
    "\n",
    "feature_columns = []\n",
    "for fn in FEATURE_NAMES:\n",
    "    feat_col = tf1.feature_column.numeric_column(fn, dtype=tf.float32)\n",
    "    feature_columns.append(feat_col)"
   ],
   "metadata": {
    "collapsed": false,
    "pycharm": {
     "name": "#%%\n"
    }
   }
  },
  {
   "cell_type": "code",
   "execution_count": 9,
   "outputs": [],
   "source": [
    "# Create a method to instantiate a simplistic sample optimizer to use with our various TensorFlow 1 Estimator and TensorFlow 2 Keras models\n",
    "\n",
    "def create_sample_optimizer(tf_version):\n",
    "    if tf_version == 'tf1':\n",
    "        optimizer = lambda: tf.keras.optimizers.Ftrl(\n",
    "            l1_regularization_strength=0.001,\n",
    "            learning_rate=tf1.train.exponential_decay(\n",
    "                learning_rate=0.1,\n",
    "                global_step=tf1.train.get_global_step(),\n",
    "                decay_steps=10000,\n",
    "                decay_rate=0.9))\n",
    "    elif tf_version == 'tf2':\n",
    "        optimizer = tf.keras.optimizers.Ftrl(\n",
    "            l1_regularization_strength=0.001,\n",
    "            learning_rate=tf.keras.optimizers.schedules.ExponentialDecay(\n",
    "                initial_learning_rate=0.1, decay_steps=10000, decay_rate=0.9))\n",
    "    return optimizer\n"
   ],
   "metadata": {
    "collapsed": false,
    "pycharm": {
     "name": "#%%\n"
    }
   }
  },
  {
   "cell_type": "markdown",
   "source": [
    "#### Create Model"
   ],
   "metadata": {
    "collapsed": false,
    "pycharm": {
     "name": "#%% md\n"
    }
   }
  },
  {
   "cell_type": "code",
   "execution_count": null,
   "outputs": [],
   "source": [
    "optimizer = create_sample_optimizer('tf1')\n",
    "\n",
    "combined_estimator = tf.estimator.DNNLinearCombinedEstimator(\n",
    "    head=tf.estimator.BinaryClassHead(),\n",
    "    # Wide settings\n",
    "    linear_feature_columns=feature_columns,\n",
    "    linear_optimizer=optimizer,\n",
    "    # Deep settings\n",
    "    dnn_feature_columns=feature_columns,\n",
    "    dnn_hidden_units=[128],\n",
    "    dnn_optimizer=optimizer)"
   ],
   "metadata": {
    "collapsed": false,
    "pycharm": {
     "name": "#%%\n"
    }
   }
  },
  {
   "cell_type": "code",
   "execution_count": null,
   "outputs": [],
   "source": [
    "combined_estimator.train(input_fn=_input_fn, steps=100)"
   ],
   "metadata": {
    "collapsed": false,
    "pycharm": {
     "name": "#%%\n"
    }
   }
  },
  {
   "cell_type": "code",
   "execution_count": null,
   "outputs": [],
   "source": [
    "combined_estimator.evaluate(input_fn=_eval_input_fn, steps=10)"
   ],
   "metadata": {
    "collapsed": false,
    "pycharm": {
     "name": "#%%\n"
    }
   }
  },
  {
   "cell_type": "code",
   "execution_count": 10,
   "outputs": [
    {
     "name": "stdout",
     "output_type": "stream",
     "text": [
      "Metal device set to: Apple M1 Pro\n",
      "Epoch 1/10\n"
     ]
    },
    {
     "name": "stderr",
     "output_type": "stream",
     "text": [
      "2022-03-01 22:44:14.431356: I tensorflow/core/common_runtime/pluggable_device/pluggable_device_factory.cc:305] Could not identify NUMA node of platform GPU ID 0, defaulting to 0. Your kernel may not have been built with NUMA support.\n",
      "2022-03-01 22:44:14.431495: I tensorflow/core/common_runtime/pluggable_device/pluggable_device_factory.cc:271] Created TensorFlow device (/job:localhost/replica:0/task:0/device:GPU:0 with 0 MB memory) -> physical PluggableDevice (device: 0, name: METAL, pci bus id: <undefined>)\n",
      "2022-03-01 22:44:14.482839: W tensorflow/core/platform/profile_utils/cpu_utils.cc:128] Failed to get CPU frequency: 0 Hz\n"
     ]
    },
    {
     "ename": "InvalidArgumentError",
     "evalue": "Cannot assign a device for operation linear_model/dense/MatMul/ReadVariableOp: Could not satisfy explicit device specification '' because the node {{colocation_node linear_model/dense/MatMul/ReadVariableOp}} was colocated with a group of nodes that required incompatible device '/job:localhost/replica:0/task:0/device:GPU:0'. All available devices [/job:localhost/replica:0/task:0/device:CPU:0, /job:localhost/replica:0/task:0/device:GPU:0]. \nColocation Debug Info:\nColocation group had the following types and supported devices: \nRoot Member(assigned_device_name_index_=2 requested_device_name_='/job:localhost/replica:0/task:0/device:GPU:0' assigned_device_name_='/job:localhost/replica:0/task:0/device:GPU:0' resource_device_name_='/job:localhost/replica:0/task:0/device:GPU:0' supported_device_types_=[CPU] possible_devices_=[]\nResourceApplyFtrl: CPU \nMul: GPU CPU \nAddV2: GPU CPU \nRealDiv: GPU CPU \nReadVariableOp: GPU CPU \nConst: GPU CPU \n_Arg: GPU CPU \n\nColocation members, user-requested devices, and framework assigned devices, if any:\n  linear_model_dense_matmul_readvariableop_resource (_Arg)  framework assigned device=/job:localhost/replica:0/task:0/device:GPU:0\n  ftrl_ftrl_update_resourceapplyftrl_accum (_Arg)  framework assigned device=/job:localhost/replica:0/task:0/device:GPU:0\n  ftrl_ftrl_update_resourceapplyftrl_linear (_Arg)  framework assigned device=/job:localhost/replica:0/task:0/device:GPU:0\n  linear_model/dense/MatMul/ReadVariableOp (ReadVariableOp) \n  Ftrl/Ftrl/update/mul/x (Const) /job:localhost/replica:0/task:0/device:GPU:0\n  Ftrl/Ftrl/update/mul (Mul) /job:localhost/replica:0/task:0/device:GPU:0\n  Ftrl/Ftrl/update/truediv (RealDiv) /job:localhost/replica:0/task:0/device:GPU:0\n  Ftrl/Ftrl/update/add (AddV2) /job:localhost/replica:0/task:0/device:GPU:0\n  Ftrl/Ftrl/update/ResourceApplyFtrl (ResourceApplyFtrl) /job:localhost/replica:0/task:0/device:GPU:0\n\n\t [[{{node linear_model/dense/MatMul/ReadVariableOp}}]] [Op:__inference_train_function_512]",
     "output_type": "error",
     "traceback": [
      "\u001B[0;31m---------------------------------------------------------------------------\u001B[0m",
      "\u001B[0;31mInvalidArgumentError\u001B[0m                      Traceback (most recent call last)",
      "\u001B[0;32m/var/folders/xx/r2gz1j4j16q0vg6lb_0f15th0000gn/T/ipykernel_4254/2075541431.py\u001B[0m in \u001B[0;36m<module>\u001B[0;34m\u001B[0m\n\u001B[1;32m      5\u001B[0m \u001B[0mlinear_model\u001B[0m \u001B[0;34m=\u001B[0m \u001B[0mtf\u001B[0m\u001B[0;34m.\u001B[0m\u001B[0mcompat\u001B[0m\u001B[0;34m.\u001B[0m\u001B[0mv1\u001B[0m\u001B[0;34m.\u001B[0m\u001B[0mkeras\u001B[0m\u001B[0;34m.\u001B[0m\u001B[0mexperimental\u001B[0m\u001B[0;34m.\u001B[0m\u001B[0mLinearModel\u001B[0m\u001B[0;34m(\u001B[0m\u001B[0;34m)\u001B[0m\u001B[0;34m\u001B[0m\u001B[0;34m\u001B[0m\u001B[0m\n\u001B[1;32m      6\u001B[0m \u001B[0mlinear_model\u001B[0m\u001B[0;34m.\u001B[0m\u001B[0mcompile\u001B[0m\u001B[0;34m(\u001B[0m\u001B[0mloss\u001B[0m\u001B[0;34m=\u001B[0m\u001B[0;34m'mse'\u001B[0m\u001B[0;34m,\u001B[0m \u001B[0moptimizer\u001B[0m\u001B[0;34m=\u001B[0m\u001B[0moptimizer\u001B[0m\u001B[0;34m,\u001B[0m \u001B[0mmetrics\u001B[0m\u001B[0;34m=\u001B[0m\u001B[0;34m[\u001B[0m\u001B[0;34m'accuracy'\u001B[0m\u001B[0;34m]\u001B[0m\u001B[0;34m)\u001B[0m\u001B[0;34m\u001B[0m\u001B[0;34m\u001B[0m\u001B[0m\n\u001B[0;32m----> 7\u001B[0;31m \u001B[0mlinear_model\u001B[0m\u001B[0;34m.\u001B[0m\u001B[0mfit\u001B[0m\u001B[0;34m(\u001B[0m\u001B[0mx_train\u001B[0m\u001B[0;34m,\u001B[0m \u001B[0my_train\u001B[0m\u001B[0;34m,\u001B[0m \u001B[0mepochs\u001B[0m\u001B[0;34m=\u001B[0m\u001B[0;36m10\u001B[0m\u001B[0;34m,\u001B[0m \u001B[0mverbose\u001B[0m\u001B[0;34m=\u001B[0m\u001B[0;36m100\u001B[0m\u001B[0;34m)\u001B[0m\u001B[0;34m\u001B[0m\u001B[0;34m\u001B[0m\u001B[0m\n\u001B[0m\u001B[1;32m      8\u001B[0m \u001B[0;34m\u001B[0m\u001B[0m\n\u001B[1;32m      9\u001B[0m \u001B[0;31m# deep part\u001B[0m\u001B[0;34m\u001B[0m\u001B[0;34m\u001B[0m\u001B[0;34m\u001B[0m\u001B[0m\n",
      "\u001B[0;32m~/miniconda3/lib/python3.8/site-packages/keras/utils/traceback_utils.py\u001B[0m in \u001B[0;36merror_handler\u001B[0;34m(*args, **kwargs)\u001B[0m\n\u001B[1;32m     65\u001B[0m     \u001B[0;32mexcept\u001B[0m \u001B[0mException\u001B[0m \u001B[0;32mas\u001B[0m \u001B[0me\u001B[0m\u001B[0;34m:\u001B[0m  \u001B[0;31m# pylint: disable=broad-except\u001B[0m\u001B[0;34m\u001B[0m\u001B[0;34m\u001B[0m\u001B[0m\n\u001B[1;32m     66\u001B[0m       \u001B[0mfiltered_tb\u001B[0m \u001B[0;34m=\u001B[0m \u001B[0m_process_traceback_frames\u001B[0m\u001B[0;34m(\u001B[0m\u001B[0me\u001B[0m\u001B[0;34m.\u001B[0m\u001B[0m__traceback__\u001B[0m\u001B[0;34m)\u001B[0m\u001B[0;34m\u001B[0m\u001B[0;34m\u001B[0m\u001B[0m\n\u001B[0;32m---> 67\u001B[0;31m       \u001B[0;32mraise\u001B[0m \u001B[0me\u001B[0m\u001B[0;34m.\u001B[0m\u001B[0mwith_traceback\u001B[0m\u001B[0;34m(\u001B[0m\u001B[0mfiltered_tb\u001B[0m\u001B[0;34m)\u001B[0m \u001B[0;32mfrom\u001B[0m \u001B[0;32mNone\u001B[0m\u001B[0;34m\u001B[0m\u001B[0;34m\u001B[0m\u001B[0m\n\u001B[0m\u001B[1;32m     68\u001B[0m     \u001B[0;32mfinally\u001B[0m\u001B[0;34m:\u001B[0m\u001B[0;34m\u001B[0m\u001B[0;34m\u001B[0m\u001B[0m\n\u001B[1;32m     69\u001B[0m       \u001B[0;32mdel\u001B[0m \u001B[0mfiltered_tb\u001B[0m\u001B[0;34m\u001B[0m\u001B[0;34m\u001B[0m\u001B[0m\n",
      "\u001B[0;32m~/miniconda3/lib/python3.8/site-packages/tensorflow/python/eager/execute.py\u001B[0m in \u001B[0;36mquick_execute\u001B[0;34m(op_name, num_outputs, inputs, attrs, ctx, name)\u001B[0m\n\u001B[1;32m     52\u001B[0m   \u001B[0;32mtry\u001B[0m\u001B[0;34m:\u001B[0m\u001B[0;34m\u001B[0m\u001B[0;34m\u001B[0m\u001B[0m\n\u001B[1;32m     53\u001B[0m     \u001B[0mctx\u001B[0m\u001B[0;34m.\u001B[0m\u001B[0mensure_initialized\u001B[0m\u001B[0;34m(\u001B[0m\u001B[0;34m)\u001B[0m\u001B[0;34m\u001B[0m\u001B[0;34m\u001B[0m\u001B[0m\n\u001B[0;32m---> 54\u001B[0;31m     tensors = pywrap_tfe.TFE_Py_Execute(ctx._handle, device_name, op_name,\n\u001B[0m\u001B[1;32m     55\u001B[0m                                         inputs, attrs, num_outputs)\n\u001B[1;32m     56\u001B[0m   \u001B[0;32mexcept\u001B[0m \u001B[0mcore\u001B[0m\u001B[0;34m.\u001B[0m\u001B[0m_NotOkStatusException\u001B[0m \u001B[0;32mas\u001B[0m \u001B[0me\u001B[0m\u001B[0;34m:\u001B[0m\u001B[0;34m\u001B[0m\u001B[0;34m\u001B[0m\u001B[0m\n",
      "\u001B[0;31mInvalidArgumentError\u001B[0m: Cannot assign a device for operation linear_model/dense/MatMul/ReadVariableOp: Could not satisfy explicit device specification '' because the node {{colocation_node linear_model/dense/MatMul/ReadVariableOp}} was colocated with a group of nodes that required incompatible device '/job:localhost/replica:0/task:0/device:GPU:0'. All available devices [/job:localhost/replica:0/task:0/device:CPU:0, /job:localhost/replica:0/task:0/device:GPU:0]. \nColocation Debug Info:\nColocation group had the following types and supported devices: \nRoot Member(assigned_device_name_index_=2 requested_device_name_='/job:localhost/replica:0/task:0/device:GPU:0' assigned_device_name_='/job:localhost/replica:0/task:0/device:GPU:0' resource_device_name_='/job:localhost/replica:0/task:0/device:GPU:0' supported_device_types_=[CPU] possible_devices_=[]\nResourceApplyFtrl: CPU \nMul: GPU CPU \nAddV2: GPU CPU \nRealDiv: GPU CPU \nReadVariableOp: GPU CPU \nConst: GPU CPU \n_Arg: GPU CPU \n\nColocation members, user-requested devices, and framework assigned devices, if any:\n  linear_model_dense_matmul_readvariableop_resource (_Arg)  framework assigned device=/job:localhost/replica:0/task:0/device:GPU:0\n  ftrl_ftrl_update_resourceapplyftrl_accum (_Arg)  framework assigned device=/job:localhost/replica:0/task:0/device:GPU:0\n  ftrl_ftrl_update_resourceapplyftrl_linear (_Arg)  framework assigned device=/job:localhost/replica:0/task:0/device:GPU:0\n  linear_model/dense/MatMul/ReadVariableOp (ReadVariableOp) \n  Ftrl/Ftrl/update/mul/x (Const) /job:localhost/replica:0/task:0/device:GPU:0\n  Ftrl/Ftrl/update/mul (Mul) /job:localhost/replica:0/task:0/device:GPU:0\n  Ftrl/Ftrl/update/truediv (RealDiv) /job:localhost/replica:0/task:0/device:GPU:0\n  Ftrl/Ftrl/update/add (AddV2) /job:localhost/replica:0/task:0/device:GPU:0\n  Ftrl/Ftrl/update/ResourceApplyFtrl (ResourceApplyFtrl) /job:localhost/replica:0/task:0/device:GPU:0\n\n\t [[{{node linear_model/dense/MatMul/ReadVariableOp}}]] [Op:__inference_train_function_512]"
     ]
    }
   ],
   "source": [
    "# Create LinearModel and DNN Model as in Examples 1 and 2\n",
    "optimizer = create_sample_optimizer('tf2')\n",
    "\n",
    "# wide part\n",
    "linear_model = tf.compat.v1.keras.experimental.LinearModel()\n",
    "linear_model.compile(loss='mse', optimizer=optimizer, metrics=['accuracy'])\n",
    "linear_model.fit(x_train, y_train, epochs=10, verbose=100)\n",
    "\n",
    "# deep part\n",
    "dnn_model = tf.keras.models.Sequential(\n",
    "    [tf.keras.layers.Dense(128, activation='relu'),\n",
    "     tf.keras.layers.Dense(1)])\n",
    "dnn_model.compile(loss='mse', optimizer=optimizer, metrics=['accuracy'])"
   ],
   "metadata": {
    "collapsed": false,
    "pycharm": {
     "name": "#%%\n"
    }
   }
  },
  {
   "cell_type": "code",
   "execution_count": null,
   "outputs": [],
   "source": [
    "    "
   ],
   "metadata": {
    "collapsed": false,
    "pycharm": {
     "name": "#%%\n"
    }
   }
  }
 ],
 "metadata": {
  "kernelspec": {
   "display_name": "Python 3",
   "language": "python",
   "name": "python3"
  },
  "language_info": {
   "codemirror_mode": {
    "name": "ipython",
    "version": 2
   },
   "file_extension": ".py",
   "mimetype": "text/x-python",
   "name": "python",
   "nbconvert_exporter": "python",
   "pygments_lexer": "ipython2",
   "version": "2.7.6"
  }
 },
 "nbformat": 4,
 "nbformat_minor": 0
}