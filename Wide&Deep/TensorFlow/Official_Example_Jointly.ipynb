{
 "cells": [
  {
   "cell_type": "code",
   "execution_count": 2,
   "metadata": {
    "collapsed": true,
    "pycharm": {
     "name": "#%%\n"
    }
   },
   "outputs": [],
   "source": [
    "import keras\n",
    "import pandas as pd\n",
    "import tensorflow as tf\n",
    "import tensorflow.compat.v1 as tf1\n",
    "# # set this so LinearModel.fit won't have bug\n",
    "from tensorflow.python.framework.ops import disable_eager_execution\n",
    "disable_eager_execution()"
   ]
  },
  {
   "cell_type": "markdown",
   "source": [
    "#### Prepare data for model"
   ],
   "metadata": {
    "collapsed": false,
    "pycharm": {
     "name": "#%% md\n"
    }
   }
  },
  {
   "cell_type": "code",
   "execution_count": 3,
   "outputs": [],
   "source": [
    "x_train = pd.read_csv('https://storage.googleapis.com/tf-datasets/titanic/train.csv')\n",
    "x_eval = pd.read_csv('https://storage.googleapis.com/tf-datasets/titanic/eval.csv')"
   ],
   "metadata": {
    "collapsed": false,
    "pycharm": {
     "name": "#%%\n"
    }
   }
  },
  {
   "cell_type": "code",
   "execution_count": 4,
   "outputs": [],
   "source": [
    "# 将类别转为数字\n",
    "x_train['sex'].replace(('male', 'female'), (0, 1), inplace=True)\n",
    "x_eval['sex'].replace(('male', 'female'), (0, 1), inplace=True)\n",
    "\n",
    "x_train['alone'].replace(('n', 'y'), (0, 1), inplace=True)\n",
    "x_eval['alone'].replace(('n', 'y'), (0, 1), inplace=True)\n",
    "\n",
    "x_train['class'].replace(('First', 'Second', 'Third'), (1, 2, 3), inplace=True)\n",
    "x_eval['class'].replace(('First', 'Second', 'Third'), (1, 2, 3), inplace=True)\n",
    "\n",
    "# 将没用的列Drop\n",
    "x_train.drop(['embark_town', 'deck'], axis=1, inplace=True)\n",
    "x_eval.drop(['embark_town', 'deck'], axis=1, inplace=True)\n",
    "\n",
    "# 将target单独拿出\n",
    "y_train = x_train.pop('survived')\n",
    "y_eval = x_eval.pop('survived')"
   ],
   "metadata": {
    "collapsed": false,
    "pycharm": {
     "name": "#%%\n"
    }
   }
  },
  {
   "cell_type": "code",
   "execution_count": 5,
   "outputs": [],
   "source": [
    "# Data setup for TensorFlow 1 with `tf.estimator`\n",
    "def _input_fn():\n",
    "    return tf1.data.Dataset.from_tensor_slices((dict(x_train), y_train)).batch(32)\n",
    "\n",
    "\n",
    "def _eval_input_fn():\n",
    "    return tf1.data.Dataset.from_tensor_slices((dict(x_eval), y_eval)).batch(32)\n",
    "\n",
    "\n",
    "FEATURE_NAMES = [\n",
    "    'age', 'fare', 'sex', 'n_siblings_spouses', 'parch', 'class', 'alone'\n",
    "]\n",
    "\n",
    "feature_columns = []\n",
    "for fn in FEATURE_NAMES:\n",
    "    feat_col = tf1.feature_column.numeric_column(fn, dtype=tf.float32)\n",
    "    feature_columns.append(feat_col)"
   ],
   "metadata": {
    "collapsed": false,
    "pycharm": {
     "name": "#%%\n"
    }
   }
  },
  {
   "cell_type": "code",
   "execution_count": 6,
   "outputs": [],
   "source": [
    "# Create a method to instantiate a simplistic sample optimizer to use with our various TensorFlow 1 Estimator and TensorFlow 2 Keras models\n",
    "\n",
    "def create_sample_optimizer(tf_version):\n",
    "    if tf_version == 'tf1':\n",
    "        optimizer = lambda: tf.keras.optimizers.Ftrl(\n",
    "            l1_regularization_strength=0.001,\n",
    "            learning_rate=tf1.train.exponential_decay(\n",
    "                learning_rate=0.1,\n",
    "                global_step=tf1.train.get_global_step(),\n",
    "                decay_steps=10000,\n",
    "                decay_rate=0.9))\n",
    "    elif tf_version == 'tf2':\n",
    "        optimizer = tf.keras.optimizers.Ftrl(\n",
    "            l1_regularization_strength=0.001,\n",
    "            learning_rate=tf.keras.optimizers.schedules.ExponentialDecay(\n",
    "                initial_learning_rate=0.1, decay_steps=10000, decay_rate=0.9))\n",
    "    return optimizer\n"
   ],
   "metadata": {
    "collapsed": false,
    "pycharm": {
     "name": "#%%\n"
    }
   }
  },
  {
   "cell_type": "markdown",
   "source": [
    "#### Create Model"
   ],
   "metadata": {
    "collapsed": false,
    "pycharm": {
     "name": "#%% md\n"
    }
   }
  },
  {
   "cell_type": "markdown",
   "source": [
    "##### Train Model JOINTLY"
   ],
   "metadata": {
    "collapsed": false,
    "pycharm": {
     "name": "#%% md\n"
    }
   }
  },
  {
   "cell_type": "markdown",
   "source": [
    "**Method 1**"
   ],
   "metadata": {
    "collapsed": false,
    "pycharm": {
     "name": "#%% md\n"
    }
   }
  },
  {
   "cell_type": "code",
   "execution_count": null,
   "outputs": [],
   "source": [
    "optimizer = create_sample_optimizer('tf1')\n",
    "\n",
    "combined_estimator = tf.estimator.DNNLinearCombinedEstimator(\n",
    "    head=tf.estimator.BinaryClassHead(),\n",
    "    # Wide settings\n",
    "    linear_feature_columns=feature_columns,\n",
    "    linear_optimizer=optimizer,\n",
    "    # Deep settings\n",
    "    dnn_feature_columns=feature_columns,\n",
    "    dnn_hidden_units=[128],\n",
    "    dnn_optimizer=optimizer)"
   ],
   "metadata": {
    "collapsed": false,
    "pycharm": {
     "name": "#%%\n"
    }
   }
  },
  {
   "cell_type": "code",
   "execution_count": null,
   "outputs": [],
   "source": [
    "combined_estimator.train(input_fn=_input_fn, steps=100)"
   ],
   "metadata": {
    "collapsed": false,
    "pycharm": {
     "name": "#%%\n"
    }
   }
  },
  {
   "cell_type": "code",
   "execution_count": null,
   "outputs": [],
   "source": [
    "combined_estimator.evaluate(input_fn=_eval_input_fn, steps=10)"
   ],
   "metadata": {
    "collapsed": false,
    "pycharm": {
     "name": "#%%\n"
    }
   }
  },
  {
   "cell_type": "markdown",
   "source": [
    "**Method 2**"
   ],
   "metadata": {
    "collapsed": false,
    "pycharm": {
     "name": "#%% md\n"
    }
   }
  },
  {
   "cell_type": "code",
   "execution_count": 7,
   "outputs": [],
   "source": [
    "x_train = x_train.to_numpy()\n",
    "y_train = y_train.to_numpy()"
   ],
   "metadata": {
    "collapsed": false,
    "pycharm": {
     "name": "#%%\n"
    }
   }
  },
  {
   "cell_type": "code",
   "execution_count": 8,
   "outputs": [
    {
     "name": "stdout",
     "output_type": "stream",
     "text": [
      "WARNING:tensorflow:From /Users/xiaoziqi/miniconda3/lib/python3.8/site-packages/keras/optimizer_v2/ftrl.py:148: calling Constant.__init__ (from tensorflow.python.ops.init_ops) with dtype is deprecated and will be removed in a future version.\n",
      "Instructions for updating:\n",
      "Call initializer instance with the dtype argument instead of passing it to the constructor\n",
      "Train on 627 samples\n",
      "Metal device set to: Apple M1 Pro\n",
      "Epoch 1/10\n"
     ]
    },
    {
     "name": "stderr",
     "output_type": "stream",
     "text": [
      "2022-03-02 11:17:22.082795: I tensorflow/core/common_runtime/pluggable_device/pluggable_device_factory.cc:305] Could not identify NUMA node of platform GPU ID 0, defaulting to 0. Your kernel may not have been built with NUMA support.\n",
      "2022-03-02 11:17:22.082946: I tensorflow/core/common_runtime/pluggable_device/pluggable_device_factory.cc:271] Created TensorFlow device (/job:localhost/replica:0/task:0/device:GPU:0 with 0 MB memory) -> physical PluggableDevice (device: 0, name: METAL, pci bus id: <undefined>)\n",
      "2022-03-02 11:17:22.087742: W tensorflow/core/platform/profile_utils/cpu_utils.cc:128] Failed to get CPU frequency: 0 Hz\n",
      "2022-03-02 11:17:22.087823: I tensorflow/core/grappler/optimizers/custom_graph_optimizer_registry.cc:113] Plugin optimizer for device_type GPU is enabled.\n",
      "2022-03-02 11:17:22.096724: I tensorflow/core/grappler/optimizers/custom_graph_optimizer_registry.cc:113] Plugin optimizer for device_type GPU is enabled.\n",
      "2022-03-02 11:17:22.104870: I tensorflow/core/grappler/optimizers/custom_graph_optimizer_registry.cc:113] Plugin optimizer for device_type GPU is enabled.\n",
      "2022-03-02 11:17:22.108884: I tensorflow/core/grappler/optimizers/custom_graph_optimizer_registry.cc:113] Plugin optimizer for device_type GPU is enabled.\n"
     ]
    },
    {
     "name": "stdout",
     "output_type": "stream",
     "text": [
      "Epoch 2/10\n",
      "Epoch 3/10\n",
      "Epoch 4/10\n",
      "Epoch 5/10\n",
      "Epoch 6/10\n",
      "Epoch 7/10\n",
      "Epoch 8/10\n",
      "Epoch 9/10\n",
      "Epoch 10/10\n"
     ]
    }
   ],
   "source": [
    "# Create LinearModel and DNN Model as in Examples 1 and 2\n",
    "optimizer = create_sample_optimizer('tf2')\n",
    "\n",
    "# wide part\n",
    "linear_model = tf.keras.experimental.LinearModel()\n",
    "linear_model.compile(loss='mse', optimizer=optimizer, metrics=['accuracy'])\n",
    "linear_model.fit(x_train, y_train, epochs=10, verbose=100)\n",
    "\n",
    "# deep part\n",
    "dnn_model = tf.keras.models.Sequential(\n",
    "    [tf.keras.layers.Dense(128, activation='relu'),\n",
    "     tf.keras.layers.Dense(1)])\n",
    "dnn_model.compile(loss='mse', optimizer=optimizer, metrics=['accuracy'])"
   ],
   "metadata": {
    "collapsed": false,
    "pycharm": {
     "name": "#%%\n"
    }
   }
  },
  {
   "cell_type": "code",
   "execution_count": 9,
   "outputs": [
    {
     "name": "stdout",
     "output_type": "stream",
     "text": [
      "Train on 627 samples\n",
      "Epoch 1/10\n"
     ]
    },
    {
     "name": "stderr",
     "output_type": "stream",
     "text": [
      "2022-03-02 11:17:23.902725: I tensorflow/core/grappler/optimizers/custom_graph_optimizer_registry.cc:113] Plugin optimizer for device_type GPU is enabled.\n",
      "2022-03-02 11:17:23.912362: I tensorflow/core/grappler/optimizers/custom_graph_optimizer_registry.cc:113] Plugin optimizer for device_type GPU is enabled.\n",
      "2022-03-02 11:17:23.921730: I tensorflow/core/grappler/optimizers/custom_graph_optimizer_registry.cc:113] Plugin optimizer for device_type GPU is enabled.\n",
      "2022-03-02 11:17:23.925911: I tensorflow/core/grappler/optimizers/custom_graph_optimizer_registry.cc:113] Plugin optimizer for device_type GPU is enabled.\n"
     ]
    },
    {
     "name": "stdout",
     "output_type": "stream",
     "text": [
      "627/627 [==============================] - 1s 888us/sample - loss: 554.8719 - accuracy: 0.5072\n",
      "Epoch 2/10\n",
      "627/627 [==============================] - 0s 180us/sample - loss: 1.0064 - accuracy: 0.6938\n",
      "Epoch 3/10\n",
      "627/627 [==============================] - 0s 193us/sample - loss: 0.2956 - accuracy: 0.7018\n",
      "Epoch 4/10\n",
      "627/627 [==============================] - 0s 174us/sample - loss: 0.2443 - accuracy: 0.7416\n",
      "Epoch 5/10\n",
      "627/627 [==============================] - 0s 166us/sample - loss: 0.2173 - accuracy: 0.7608\n",
      "Epoch 6/10\n",
      "627/627 [==============================] - 0s 167us/sample - loss: 0.2305 - accuracy: 0.7560\n",
      "Epoch 7/10\n",
      "627/627 [==============================] - 0s 178us/sample - loss: 0.2115 - accuracy: 0.7624\n",
      "Epoch 8/10\n",
      "627/627 [==============================] - 0s 172us/sample - loss: 0.1873 - accuracy: 0.7767\n",
      "Epoch 9/10\n",
      "627/627 [==============================] - 0s 161us/sample - loss: 0.1861 - accuracy: 0.7831\n",
      "Epoch 10/10\n",
      "627/627 [==============================] - 0s 160us/sample - loss: 0.1871 - accuracy: 0.7624\n"
     ]
    },
    {
     "name": "stderr",
     "output_type": "stream",
     "text": [
      "/Users/xiaoziqi/miniconda3/lib/python3.8/site-packages/keras/engine/training_v1.py:2057: UserWarning: `Model.state_updates` will be removed in a future version. This property should not be used in TensorFlow 2.0, as `updates` are applied automatically.\n",
      "  updates = self.state_updates\n",
      "2022-03-02 11:17:25.477631: I tensorflow/core/grappler/optimizers/custom_graph_optimizer_registry.cc:113] Plugin optimizer for device_type GPU is enabled.\n"
     ]
    },
    {
     "data": {
      "text/plain": "{'loss': 0.19826363230293448, 'accuracy': 0.7348485}"
     },
     "execution_count": 9,
     "metadata": {},
     "output_type": "execute_result"
    }
   ],
   "source": [
    "combined_model = tf.keras.experimental.WideDeepModel(linear_model,\n",
    "                                                               dnn_model)\n",
    "combined_model.compile(\n",
    "    optimizer=[optimizer, optimizer], loss='mse', metrics=['accuracy'])\n",
    "combined_model.fit([x_train, x_train], y_train, epochs=10)\n",
    "result = combined_model.evaluate([x_eval, x_eval], y_eval)\n",
    "result = {out: result[i] for i, out in enumerate(combined_model.metrics_names)}\n",
    "result"
   ],
   "metadata": {
    "collapsed": false,
    "pycharm": {
     "name": "#%%\n"
    }
   }
  }
 ],
 "metadata": {
  "kernelspec": {
   "display_name": "Python 3",
   "language": "python",
   "name": "python3"
  },
  "language_info": {
   "codemirror_mode": {
    "name": "ipython",
    "version": 2
   },
   "file_extension": ".py",
   "mimetype": "text/x-python",
   "name": "python",
   "nbconvert_exporter": "python",
   "pygments_lexer": "ipython2",
   "version": "2.7.6"
  }
 },
 "nbformat": 4,
 "nbformat_minor": 0
}