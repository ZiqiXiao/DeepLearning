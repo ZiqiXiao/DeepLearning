{
 "cells": [
  {
   "cell_type": "markdown",
   "source": [
    "# 线性回归"
   ],
   "metadata": {
    "collapsed": false,
    "pycharm": {
     "name": "#%% md\n"
    }
   }
  },
  {
   "cell_type": "code",
   "execution_count": 59,
   "outputs": [],
   "source": [
    "import pandas as pd\n",
    "import numpy as np\n",
    "from sklearn import linear_model, datasets\n",
    "from sklearn.model_selection import train_test_split\n",
    "from sklearn.metrics import r2_score, mean_squared_error"
   ],
   "metadata": {
    "collapsed": false,
    "pycharm": {
     "name": "#%%\n"
    }
   }
  },
  {
   "cell_type": "code",
   "execution_count": 49,
   "outputs": [],
   "source": [
    "# 使用datasets.load_diabetes载入糖尿病数据\n",
    "X, y = datasets.load_diabetes(return_X_y=True)\n",
    "# 使用train_test_split将训练数据集和测试数据集分开\n",
    "X_train, X_test,  y_train, y_test = train_test_split(X, y, test_size=0.2, random_state=20)\n",
    "\n",
    "# 实例化模型\n",
    "# 一般线性回归模型\n",
    "lr = linear_model.LinearRegression()\n",
    "# 使用训练数据（train_X, train_y）拟合模型\n",
    "lr.fit(X_train, y_train)\n",
    "# 使用lr_pred变量接收测试数据的预测结果\n",
    "lr_pred = lr.predict(X_test)"
   ],
   "metadata": {
    "collapsed": false,
    "pycharm": {
     "name": "#%%\n"
    }
   }
  },
  {
   "cell_type": "code",
   "execution_count": 82,
   "outputs": [
    {
     "name": "stderr",
     "output_type": "stream",
     "text": [
      "/Users/xiaoziqi/miniconda3/lib/python3.8/site-packages/sklearn/linear_model/_ridge.py:1791: RuntimeWarning: divide by zero encountered in reciprocal\n",
      "  w = ((singvals_sq + alpha) ** -1) - (alpha ** -1)\n"
     ]
    },
    {
     "data": {
      "text/plain": "0.001"
     },
     "execution_count": 82,
     "metadata": {},
     "output_type": "execute_result"
    }
   ],
   "source": [
    "# 岭回归：增加了正则项 L2，防止过拟合。\n",
    "# linear_model.Ridge 手动设置alpha\n",
    "# ridge_lr = linear_model.Ridge(alpha=0.5)\n",
    "\n",
    "# linear_model.Ridge_cv 通过cross-validation, 在列表中选择最优alpha参数。\n",
    "ridge_lr = linear_model.RidgeCV(alphas=np.logspace(-6, 6, 13))\n",
    "ridge_lr.fit(X_train, y_train)\n",
    "ridge_lr_pred = ridge_lr.predict(X_test)\n",
    "ridge_lr.alpha_"
   ],
   "metadata": {
    "collapsed": false,
    "pycharm": {
     "name": "#%%\n"
    }
   }
  },
  {
   "cell_type": "code",
   "execution_count": 101,
   "outputs": [
    {
     "data": {
      "text/plain": "0.01"
     },
     "execution_count": 101,
     "metadata": {},
     "output_type": "execute_result"
    }
   ],
   "source": [
    "# Lasso回归：增加了正则项 L1。\n",
    "# lasso_lr = linear_model.Lasso(alpha=0.1)\n",
    "\n",
    "lasso_lr = linear_model.LassoCV(alphas=np.logspace(-6, 6, 13))\n",
    "lasso_lr.fit(X_train, y_train)\n",
    "lasso_lr_pred = ridge_lr.predict(X_test)\n",
    "lasso_lr.alpha_"
   ],
   "metadata": {
    "collapsed": false,
    "pycharm": {
     "name": "#%%\n"
    }
   }
  },
  {
   "cell_type": "code",
   "execution_count": 54,
   "outputs": [
    {
     "name": "stdout",
     "output_type": "stream",
     "text": [
      "回归系数是： \n",
      " [  -40.4344303   -255.5975599    561.20624771   346.6618945\n",
      " -1034.96857344   726.22785318   167.0441535    127.47639878\n",
      "   830.27619811    51.23966951]\n",
      "截距是：  153.71773657902813\n",
      "均方误差是：  3461.6357411723743\n",
      "r2 score:  0.417982093511879\n"
     ]
    }
   ],
   "source": [
    "# 模型中各个变量的系数\n",
    "print(\"回归系数是： \\n\", lr.coef_)\n",
    "print(\"截距是： \", lr.intercept_)\n",
    "print(\"均方误差是： \", mean_squared_error(y_test, lr_pred))\n",
    "print(\"r2 score: \", r2_score(y_test, lr_pred))"
   ],
   "metadata": {
    "collapsed": false,
    "pycharm": {
     "name": "#%%\n"
    }
   }
  },
  {
   "cell_type": "code",
   "execution_count": 104,
   "outputs": [],
   "source": [
    "df_coef = pd.DataFrame()\n",
    "df_coef['linear'] = np.append(lr.intercept_, lr.coef_)\n",
    "df_coef['ridge_linear'] = np.append(ridge_lr.intercept_, ridge_lr.coef_)\n",
    "df_coef['lasso_linear'] = np.append(lasso_lr.intercept_, lasso_lr.coef_)"
   ],
   "metadata": {
    "collapsed": false,
    "pycharm": {
     "name": "#%%\n"
    }
   }
  },
  {
   "cell_type": "code",
   "execution_count": 105,
   "outputs": [
    {
     "data": {
      "text/plain": "         linear  ridge_linear  lasso_linear\n0    153.717737    153.715523    153.723669\n1    -40.434430    -39.045984    -29.480344\n2   -255.597560   -254.150976   -243.153954\n3    561.206248    562.008173    566.603069\n4    346.661894    346.141859    339.508608\n5  -1034.968573   -904.629698   -542.189152\n6    726.227853    621.513754    330.606861\n7    167.044153    111.103719    -38.164434\n8    127.476399    114.344774     75.181117\n9    830.276198    779.680089    643.162715\n10    51.239670     52.115543     49.336212",
      "text/html": "<div>\n<style scoped>\n    .dataframe tbody tr th:only-of-type {\n        vertical-align: middle;\n    }\n\n    .dataframe tbody tr th {\n        vertical-align: top;\n    }\n\n    .dataframe thead th {\n        text-align: right;\n    }\n</style>\n<table border=\"1\" class=\"dataframe\">\n  <thead>\n    <tr style=\"text-align: right;\">\n      <th></th>\n      <th>linear</th>\n      <th>ridge_linear</th>\n      <th>lasso_linear</th>\n    </tr>\n  </thead>\n  <tbody>\n    <tr>\n      <th>0</th>\n      <td>153.717737</td>\n      <td>153.715523</td>\n      <td>153.723669</td>\n    </tr>\n    <tr>\n      <th>1</th>\n      <td>-40.434430</td>\n      <td>-39.045984</td>\n      <td>-29.480344</td>\n    </tr>\n    <tr>\n      <th>2</th>\n      <td>-255.597560</td>\n      <td>-254.150976</td>\n      <td>-243.153954</td>\n    </tr>\n    <tr>\n      <th>3</th>\n      <td>561.206248</td>\n      <td>562.008173</td>\n      <td>566.603069</td>\n    </tr>\n    <tr>\n      <th>4</th>\n      <td>346.661894</td>\n      <td>346.141859</td>\n      <td>339.508608</td>\n    </tr>\n    <tr>\n      <th>5</th>\n      <td>-1034.968573</td>\n      <td>-904.629698</td>\n      <td>-542.189152</td>\n    </tr>\n    <tr>\n      <th>6</th>\n      <td>726.227853</td>\n      <td>621.513754</td>\n      <td>330.606861</td>\n    </tr>\n    <tr>\n      <th>7</th>\n      <td>167.044153</td>\n      <td>111.103719</td>\n      <td>-38.164434</td>\n    </tr>\n    <tr>\n      <th>8</th>\n      <td>127.476399</td>\n      <td>114.344774</td>\n      <td>75.181117</td>\n    </tr>\n    <tr>\n      <th>9</th>\n      <td>830.276198</td>\n      <td>779.680089</td>\n      <td>643.162715</td>\n    </tr>\n    <tr>\n      <th>10</th>\n      <td>51.239670</td>\n      <td>52.115543</td>\n      <td>49.336212</td>\n    </tr>\n  </tbody>\n</table>\n</div>"
     },
     "execution_count": 105,
     "metadata": {},
     "output_type": "execute_result"
    }
   ],
   "source": [
    "df_coef"
   ],
   "metadata": {
    "collapsed": false,
    "pycharm": {
     "name": "#%%\n"
    }
   }
  },
  {
   "cell_type": "code",
   "execution_count": 106,
   "outputs": [],
   "source": [
    "df_metric = pd.DataFrame(index=['linear',\n",
    "                                'ridge_linear',\n",
    "                                'lasso_linear'])\n",
    "df_metric['mean_squared_error'] = [\n",
    "    mean_squared_error(y_test, lr_pred),\n",
    "    mean_squared_error(y_test, ridge_lr_pred),\n",
    "    mean_squared_error(y_test, lasso_lr_pred)\n",
    "]\n",
    "df_metric['r2_score'] = [\n",
    "    r2_score(y_test, lr_pred),\n",
    "    r2_score(y_test, ridge_lr_pred),\n",
    "    r2_score(y_test, lasso_lr_pred)\n",
    "]"
   ],
   "metadata": {
    "collapsed": false,
    "pycharm": {
     "name": "#%%\n"
    }
   }
  },
  {
   "cell_type": "code",
   "execution_count": 107,
   "outputs": [
    {
     "data": {
      "text/plain": "              mean_squared_error  r2_score\nlinear               3461.635741  0.417982\nridge_linear         3448.122830  0.420254\nlasso_linear         3448.122830  0.420254",
      "text/html": "<div>\n<style scoped>\n    .dataframe tbody tr th:only-of-type {\n        vertical-align: middle;\n    }\n\n    .dataframe tbody tr th {\n        vertical-align: top;\n    }\n\n    .dataframe thead th {\n        text-align: right;\n    }\n</style>\n<table border=\"1\" class=\"dataframe\">\n  <thead>\n    <tr style=\"text-align: right;\">\n      <th></th>\n      <th>mean_squared_error</th>\n      <th>r2_score</th>\n    </tr>\n  </thead>\n  <tbody>\n    <tr>\n      <th>linear</th>\n      <td>3461.635741</td>\n      <td>0.417982</td>\n    </tr>\n    <tr>\n      <th>ridge_linear</th>\n      <td>3448.122830</td>\n      <td>0.420254</td>\n    </tr>\n    <tr>\n      <th>lasso_linear</th>\n      <td>3448.122830</td>\n      <td>0.420254</td>\n    </tr>\n  </tbody>\n</table>\n</div>"
     },
     "execution_count": 107,
     "metadata": {},
     "output_type": "execute_result"
    }
   ],
   "source": [
    "df_metric"
   ],
   "metadata": {
    "collapsed": false,
    "pycharm": {
     "name": "#%%\n"
    }
   }
  },
  {
   "cell_type": "markdown",
   "source": [
    "# 逻辑回归"
   ],
   "metadata": {
    "collapsed": false,
    "pycharm": {
     "name": "#%% md\n"
    }
   }
  },
  {
   "cell_type": "code",
   "execution_count": null,
   "outputs": [],
   "source": [],
   "metadata": {
    "collapsed": false,
    "pycharm": {
     "name": "#%%\n"
    }
   }
  }
 ],
 "metadata": {
  "kernelspec": {
   "display_name": "Python 3",
   "language": "python",
   "name": "python3"
  },
  "language_info": {
   "codemirror_mode": {
    "name": "ipython",
    "version": 2
   },
   "file_extension": ".py",
   "mimetype": "text/x-python",
   "name": "python",
   "nbconvert_exporter": "python",
   "pygments_lexer": "ipython2",
   "version": "2.7.6"
  }
 },
 "nbformat": 4,
 "nbformat_minor": 0
}